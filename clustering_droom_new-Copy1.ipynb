{
 "cells": [
  {
   "cell_type": "code",
   "execution_count": 1,
   "metadata": {},
   "outputs": [],
   "source": [
    "import pandas as pd\n",
    "import numpy as np\n",
    "import matplotlib.pyplot as plt\n",
    "from matplotlib import style\n",
    "from sklearn.cluster import KMeans"
   ]
  },
  {
   "cell_type": "code",
   "execution_count": 64,
   "metadata": {},
   "outputs": [],
   "source": [
    "df=pd.read_csv('Droom cluster data.xlsx - Sheet2.csv')"
   ]
  },
  {
   "cell_type": "code",
   "execution_count": 65,
   "metadata": {},
   "outputs": [
    {
     "data": {
      "text/html": [
       "<div>\n",
       "<style scoped>\n",
       "    .dataframe tbody tr th:only-of-type {\n",
       "        vertical-align: middle;\n",
       "    }\n",
       "\n",
       "    .dataframe tbody tr th {\n",
       "        vertical-align: top;\n",
       "    }\n",
       "\n",
       "    .dataframe thead th {\n",
       "        text-align: right;\n",
       "    }\n",
       "</style>\n",
       "<table border=\"1\" class=\"dataframe\">\n",
       "  <thead>\n",
       "    <tr style=\"text-align: right;\">\n",
       "      <th></th>\n",
       "      <th>ID</th>\n",
       "      <th>Make</th>\n",
       "      <th>Model</th>\n",
       "      <th>Variant</th>\n",
       "      <th>Type</th>\n",
       "      <th>Fuel Type</th>\n",
       "      <th>Transmission</th>\n",
       "      <th>on road price</th>\n",
       "    </tr>\n",
       "  </thead>\n",
       "  <tbody>\n",
       "    <tr>\n",
       "      <th>0</th>\n",
       "      <td>1</td>\n",
       "      <td>Hyundai</td>\n",
       "      <td>I10</td>\n",
       "      <td>Sportz 1.2</td>\n",
       "      <td>Hatchback</td>\n",
       "      <td>Petrol</td>\n",
       "      <td>Manual</td>\n",
       "      <td>537850</td>\n",
       "    </tr>\n",
       "    <tr>\n",
       "      <th>1</th>\n",
       "      <td>2</td>\n",
       "      <td>Hyundai</td>\n",
       "      <td>I20</td>\n",
       "      <td>Magna (O) 1.2</td>\n",
       "      <td>Hatchback</td>\n",
       "      <td>Petrol</td>\n",
       "      <td>Manual</td>\n",
       "      <td>613863</td>\n",
       "    </tr>\n",
       "  </tbody>\n",
       "</table>\n",
       "</div>"
      ],
      "text/plain": [
       "   ID     Make Model        Variant       Type Fuel Type Transmission  \\\n",
       "0   1  Hyundai   I10     Sportz 1.2  Hatchback    Petrol       Manual   \n",
       "1   2  Hyundai   I20  Magna (O) 1.2  Hatchback    Petrol       Manual   \n",
       "\n",
       "   on road price  \n",
       "0         537850  \n",
       "1         613863  "
      ]
     },
     "execution_count": 65,
     "metadata": {},
     "output_type": "execute_result"
    }
   ],
   "source": [
    "df.head(2)"
   ]
  },
  {
   "cell_type": "code",
   "execution_count": 4,
   "metadata": {},
   "outputs": [
    {
     "data": {
      "text/plain": [
       "ID                int64\n",
       "Make             object\n",
       "Model            object\n",
       "Variant          object\n",
       "Type             object\n",
       "Fuel Type        object\n",
       "Transmission     object\n",
       "on road price     int64\n",
       "dtype: object"
      ]
     },
     "execution_count": 4,
     "metadata": {},
     "output_type": "execute_result"
    }
   ],
   "source": [
    "df.dtypes"
   ]
  },
  {
   "cell_type": "code",
   "execution_count": 5,
   "metadata": {},
   "outputs": [
    {
     "data": {
      "text/plain": [
       "(563, 8)"
      ]
     },
     "execution_count": 5,
     "metadata": {},
     "output_type": "execute_result"
    }
   ],
   "source": [
    "df.shape"
   ]
  },
  {
   "cell_type": "code",
   "execution_count": 27,
   "metadata": {},
   "outputs": [
    {
     "data": {
      "text/plain": [
       "'31,143'"
      ]
     },
     "execution_count": 27,
     "metadata": {},
     "output_type": "execute_result"
    }
   ],
   "source": [
    "df['Kms_run'][1]"
   ]
  },
  {
   "cell_type": "code",
   "execution_count": 28,
   "metadata": {},
   "outputs": [],
   "source": [
    "df['Kms_run']=df['Kms_run'].replace(\",\",\"\",regex=True)"
   ]
  },
  {
   "cell_type": "markdown",
   "metadata": {},
   "source": [
    "df['Ex_Showroom']=df['Ex_Showroom'].replace(\" \",\"\",regex=True)"
   ]
  },
  {
   "cell_type": "code",
   "execution_count": 29,
   "metadata": {},
   "outputs": [],
   "source": [
    "df['Kms_run']=df['Kms_run'].astype(int)"
   ]
  },
  {
   "cell_type": "code",
   "execution_count": 30,
   "metadata": {},
   "outputs": [
    {
     "data": {
      "text/plain": [
       "dtype('int64')"
      ]
     },
     "execution_count": 30,
     "metadata": {},
     "output_type": "execute_result"
    }
   ],
   "source": [
    "df['Kms_run'].dtype"
   ]
  },
  {
   "cell_type": "markdown",
   "metadata": {},
   "source": [
    "df['Insurance']=df['Insurance'].replace(\",\",\"\",regex=True)"
   ]
  },
  {
   "cell_type": "markdown",
   "metadata": {},
   "source": [
    "df['Insurance']=df['Insurance'].replace(\" \",\"\",regex=True)"
   ]
  },
  {
   "cell_type": "markdown",
   "metadata": {},
   "source": [
    "df['Insurance']=df['Insurance'].astype(int)"
   ]
  },
  {
   "cell_type": "markdown",
   "metadata": {},
   "source": [
    "df['Insurance'].dtype"
   ]
  },
  {
   "cell_type": "code",
   "execution_count": 6,
   "metadata": {},
   "outputs": [
    {
     "data": {
      "text/plain": [
       "array(['Hatchback', 'Sedan', 'SUV', 'MUV', 'Van', 'Crossover'],\n",
       "      dtype=object)"
      ]
     },
     "execution_count": 6,
     "metadata": {},
     "output_type": "execute_result"
    }
   ],
   "source": [
    "df['Type'].unique()"
   ]
  },
  {
   "cell_type": "code",
   "execution_count": 7,
   "metadata": {},
   "outputs": [],
   "source": [
    "df['Type'] = df['Type'].map( {'Hatchback': 1,'Crossover' : 0, 'Sedan':2,'SUV':3, 'MUV':4, 'Van':5 } ).astype(int)"
   ]
  },
  {
   "cell_type": "code",
   "execution_count": 8,
   "metadata": {},
   "outputs": [
    {
     "data": {
      "text/plain": [
       "dtype('int64')"
      ]
     },
     "execution_count": 8,
     "metadata": {},
     "output_type": "execute_result"
    }
   ],
   "source": [
    "df['Type'].dtype"
   ]
  },
  {
   "cell_type": "code",
   "execution_count": 9,
   "metadata": {},
   "outputs": [
    {
     "data": {
      "text/plain": [
       "array(['Petrol', 'Diesel', 'cng', 'diesel', 'CNG', 'LPG'], dtype=object)"
      ]
     },
     "execution_count": 9,
     "metadata": {},
     "output_type": "execute_result"
    }
   ],
   "source": [
    "df['Fuel Type'].unique()"
   ]
  },
  {
   "cell_type": "code",
   "execution_count": 11,
   "metadata": {},
   "outputs": [],
   "source": [
    "df[\"Fuel Type\"] = df[\"Fuel Type\"].replace( ['Petrol','Petrol + CNG','Petrol + LPG' ], 'Petrol')\n",
    "df[\"Fuel Type\"] = df[\"Fuel Type\"].replace(['Diesel','diesel'],'Diesel' )  \n",
    "df[\"Fuel Type\"] = df[\"Fuel Type\"].replace(['CNG','cng' ], 'CNG')  \n",
    "df[\"Fuel Type\"] = df[\"Fuel Type\"].replace(['LPG' ], 'LPG') "
   ]
  },
  {
   "cell_type": "code",
   "execution_count": 12,
   "metadata": {},
   "outputs": [
    {
     "data": {
      "text/plain": [
       "array(['Petrol', 'Diesel', 'CNG', 'LPG'], dtype=object)"
      ]
     },
     "execution_count": 12,
     "metadata": {},
     "output_type": "execute_result"
    }
   ],
   "source": [
    "df['Fuel Type'].unique()"
   ]
  },
  {
   "cell_type": "code",
   "execution_count": 13,
   "metadata": {},
   "outputs": [],
   "source": [
    "df['Fuel Type'] = df['Fuel Type'].map( {'Petrol': 1,'Diesel' : 0, 'CNG':2, 'LPG':3} ).astype(int)"
   ]
  },
  {
   "cell_type": "code",
   "execution_count": 15,
   "metadata": {},
   "outputs": [
    {
     "data": {
      "text/plain": [
       "dtype('int64')"
      ]
     },
     "execution_count": 15,
     "metadata": {},
     "output_type": "execute_result"
    }
   ],
   "source": [
    "df['Fuel Type'].dtype"
   ]
  },
  {
   "cell_type": "code",
   "execution_count": 16,
   "metadata": {},
   "outputs": [
    {
     "data": {
      "text/plain": [
       "array(['Hyundai', 'Honda', 'Maruti Suzuki', 'Toyota'], dtype=object)"
      ]
     },
     "execution_count": 16,
     "metadata": {},
     "output_type": "execute_result"
    }
   ],
   "source": [
    "df['Make'].unique()"
   ]
  },
  {
   "cell_type": "code",
   "execution_count": 17,
   "metadata": {},
   "outputs": [],
   "source": [
    "df['Make'] = df['Make'].map( {'Hyundai': 1,'Honda' : 0, 'Maruti Suzuki':2,'Toyota':3 } ).astype(int)"
   ]
  },
  {
   "cell_type": "code",
   "execution_count": 18,
   "metadata": {},
   "outputs": [
    {
     "data": {
      "text/plain": [
       "dtype('int64')"
      ]
     },
     "execution_count": 18,
     "metadata": {},
     "output_type": "execute_result"
    }
   ],
   "source": [
    "df['Make'].dtype"
   ]
  },
  {
   "cell_type": "code",
   "execution_count": 19,
   "metadata": {},
   "outputs": [
    {
     "data": {
      "text/plain": [
       "(563, 8)"
      ]
     },
     "execution_count": 19,
     "metadata": {},
     "output_type": "execute_result"
    }
   ],
   "source": [
    "df.shape"
   ]
  },
  {
   "cell_type": "code",
   "execution_count": 20,
   "metadata": {},
   "outputs": [
    {
     "data": {
      "text/plain": [
       "474"
      ]
     },
     "execution_count": 20,
     "metadata": {},
     "output_type": "execute_result"
    }
   ],
   "source": [
    "len(df['Variant'].unique())"
   ]
  },
  {
   "cell_type": "code",
   "execution_count": 22,
   "metadata": {},
   "outputs": [],
   "source": [
    "M=df['Variant'].unique()\n",
    "N=df['Variant']"
   ]
  },
  {
   "cell_type": "code",
   "execution_count": 23,
   "metadata": {},
   "outputs": [
    {
     "name": "stderr",
     "output_type": "stream",
     "text": [
      "/usr/local/lib/python2.7/dist-packages/ipykernel_launcher.py:5: SettingWithCopyWarning: \n",
      "A value is trying to be set on a copy of a slice from a DataFrame\n",
      "\n",
      "See the caveats in the documentation: http://pandas.pydata.org/pandas-docs/stable/indexing.html#indexing-view-versus-copy\n",
      "  \"\"\"\n"
     ]
    }
   ],
   "source": [
    "n=0\n",
    "for i in range(474):\n",
    "    for j in range(563):\n",
    "        if(M[i]==N[j]):\n",
    "            N[j]=n\n",
    "            \n",
    "    n=n+1"
   ]
  },
  {
   "cell_type": "code",
   "execution_count": 24,
   "metadata": {},
   "outputs": [],
   "source": [
    "df['Variant']=df['Variant'].astype(int)"
   ]
  },
  {
   "cell_type": "code",
   "execution_count": 25,
   "metadata": {},
   "outputs": [
    {
     "data": {
      "text/plain": [
       "dtype('int64')"
      ]
     },
     "execution_count": 25,
     "metadata": {},
     "output_type": "execute_result"
    }
   ],
   "source": [
    "df['Variant'].dtype"
   ]
  },
  {
   "cell_type": "code",
   "execution_count": 26,
   "metadata": {},
   "outputs": [
    {
     "data": {
      "text/plain": [
       "66"
      ]
     },
     "execution_count": 26,
     "metadata": {},
     "output_type": "execute_result"
    }
   ],
   "source": [
    "len(df['Model'].unique())"
   ]
  },
  {
   "cell_type": "code",
   "execution_count": 27,
   "metadata": {},
   "outputs": [],
   "source": [
    "O=df['Model'].unique()\n",
    "P=df['Model']"
   ]
  },
  {
   "cell_type": "code",
   "execution_count": 28,
   "metadata": {},
   "outputs": [
    {
     "name": "stderr",
     "output_type": "stream",
     "text": [
      "/usr/local/lib/python2.7/dist-packages/ipykernel_launcher.py:5: SettingWithCopyWarning: \n",
      "A value is trying to be set on a copy of a slice from a DataFrame\n",
      "\n",
      "See the caveats in the documentation: http://pandas.pydata.org/pandas-docs/stable/indexing.html#indexing-view-versus-copy\n",
      "  \"\"\"\n"
     ]
    }
   ],
   "source": [
    "m=0\n",
    "for i in range(66):\n",
    "    for j in range(563):\n",
    "        if(O[i]==P[j]):\n",
    "            P[j]=m\n",
    "            \n",
    "    m=m+1"
   ]
  },
  {
   "cell_type": "code",
   "execution_count": 29,
   "metadata": {},
   "outputs": [],
   "source": [
    "df['Model']=df['Model'].astype(int)"
   ]
  },
  {
   "cell_type": "code",
   "execution_count": 30,
   "metadata": {},
   "outputs": [
    {
     "data": {
      "text/plain": [
       "dtype('int64')"
      ]
     },
     "execution_count": 30,
     "metadata": {},
     "output_type": "execute_result"
    }
   ],
   "source": [
    "df['Model'].dtype"
   ]
  },
  {
   "cell_type": "code",
   "execution_count": null,
   "metadata": {},
   "outputs": [],
   "source": []
  },
  {
   "cell_type": "code",
   "execution_count": null,
   "metadata": {},
   "outputs": [],
   "source": []
  },
  {
   "cell_type": "code",
   "execution_count": null,
   "metadata": {},
   "outputs": [],
   "source": []
  },
  {
   "cell_type": "code",
   "execution_count": null,
   "metadata": {},
   "outputs": [],
   "source": []
  },
  {
   "cell_type": "code",
   "execution_count": 42,
   "metadata": {},
   "outputs": [
    {
     "data": {
      "text/plain": [
       "array(['I20', 'Neo Fluidic Elantra', 'Santro Xing', 'Grand I10', 'Accent',\n",
       "       'Creta', 'Elite I20', 'Verna', 'I10', 'Eon', 'Xcent', 'Getz',\n",
       "       'City', 'Accord', 'Ciaz', 'Wagon R', 'Swift', 'Innova', 'Fortuner',\n",
       "       'Alto', 'Wagon R 1.0', 'Vitara Brezza', 'Amaze', 'Civic', 'Sx4',\n",
       "       'Baleno', 'Alto K10', 'Swift Dzire', 'Alto 800', 'Santro', 'Ritz',\n",
       "       'Etios', 'Zen', 'Jazz', 'Corolla Altis', 'Elantra', 'Estilo',\n",
       "       'Brio', 'Ertiga', 'Celerio', 'Camry', 'Eeco', 'I20 Active',\n",
       "       'Santa Fe', 'Verna Transform', 'Sonata', 'Getz Prime', 'Cr-V',\n",
       "       'City Zx', 'Mobilio', 'Civic Hybrid', 'Corolla', 'S-Cross',\n",
       "       'Wagon R Duo', 'Etios Cross', 'Omni', 'Etios Liva', 'Swift ',\n",
       "       'A-Star', 'Innova Crysta', 'Esteem', 'Stingray', 'Platinum Etios',\n",
       "       '800', 'Kizashi', 'Land Cruiser'], dtype=object)"
      ]
     },
     "execution_count": 42,
     "metadata": {},
     "output_type": "execute_result"
    }
   ],
   "source": [
    "df['Model'].unique()"
   ]
  },
  {
   "cell_type": "code",
   "execution_count": 24,
   "metadata": {},
   "outputs": [
    {
     "ename": "SyntaxError",
     "evalue": "invalid syntax (<ipython-input-24-228d5df884d1>, line 1)",
     "output_type": "error",
     "traceback": [
      "\u001b[0;36m  File \u001b[0;32m\"<ipython-input-24-228d5df884d1>\"\u001b[0;36m, line \u001b[0;32m1\u001b[0m\n\u001b[0;31m    'Eon':1, 'Grand i10':0, 'Elite i20':2, 'i20 Active':3, 'Xcent':4, 'Creta':5,'Elantra':6, 'Verna':7, 'Tucson':8, 'Alto K10':9, 'Alto 800':10, 'Celerio':11,'Dzire':12, 'Ertiga':13, 'Swift':14, 'Vitara Brezza':15, 'Wagon R':16, 'BR-V':17,'Brio':18, 'City':19, 'CRV':20, 'Jazz':21, 'Amaze':22, 'Alits':23, 'Etios':24,'Etios Liva':25, 'Etios Cross':26, 'Innova Crysta':27, 'Innova':28, 'Fortuner':29,'Baleno':30, 'Ciaz':31, 'Ignis':32\u001b[0m\n\u001b[0m         ^\u001b[0m\n\u001b[0;31mSyntaxError\u001b[0m\u001b[0;31m:\u001b[0m invalid syntax\n"
     ]
    }
   ],
   "source": [
    "'I20':1, 'Neo Fluidic Elantra':0, 'Santro Xing':2, 'Grand I10':3, 'Accent':4,'Creta':5, 'Elite I20':6, 'Verna':7, 'I10':8, 'Eon':9, 'Xcent':10, 'Getz':11,'City':12, 'Accord':13, 'Ciaz':14, 'Wagon R':15, 'Swift':16, 'Innova':17, 'Fortuner':18,'Alto':19, 'Wagon R 1.0':20, 'Vitara Brezza':21, 'Amaze':22, 'Civic':23, 'Sx4':24,'Baleno':25, 'Alto K10':26, 'Swift Dzire':27, 'Alto 800':28, 'Santro':29, 'Ritz':30,'Etios':31, 'Zen':32, 'Jazz':33, 'Corolla Altis':34, 'Elantra':35, 'Estilo':36,'Brio':37, 'Ertiga':38, 'Celerio':39, 'Camry':40, 'Eeco':41, 'I20 Active':42,'Santa Fe':43, 'Verna Transform':44, 'Sonata':45, 'Getz Prime':46, 'Cr-V':47,'City Zx':48, 'Mobilio':49, 'Civic Hybrid':50, 'Corolla':51, 'S-Cross':52,'Wagon R Duo':53, 'Etios Cross':54, 'Omni':55, 'Etios Liva':56, 'Swift ':57,'A-Star':58, 'Innova Crysta':59, 'Esteem':60, 'Stingray':61, 'Platinum Etios':62,'800':63, 'Kizashi':64, 'Land Cruiser':65"
   ]
  },
  {
   "cell_type": "code",
   "execution_count": 43,
   "metadata": {},
   "outputs": [],
   "source": [
    "df['Model'] = df['Model'].map( {'I20':1, 'Neo Fluidic Elantra':0, 'Santro Xing':2, 'Grand I10':3, 'Accent':4,'Creta':5, 'Elite I20':6, 'Verna':7, 'I10':8, 'Eon':9, 'Xcent':10, 'Getz':11,'City':12, 'Accord':13, 'Ciaz':14, 'Wagon R':15, 'Swift':16, 'Innova':17, 'Fortuner':18,'Alto':19, 'Wagon R 1.0':20, 'Vitara Brezza':21, 'Amaze':22, 'Civic':23, 'Sx4':24,'Baleno':25, 'Alto K10':26, 'Swift Dzire':27, 'Alto 800':28, 'Santro':29, 'Ritz':30,'Etios':31, 'Zen':32, 'Jazz':33, 'Corolla Altis':34, 'Elantra':35, 'Estilo':36,'Brio':37, 'Ertiga':38, 'Celerio':39, 'Camry':40, 'Eeco':41, 'I20 Active':42,'Santa Fe':43, 'Verna Transform':44, 'Sonata':45, 'Getz Prime':46, 'Cr-V':47,'City Zx':48, 'Mobilio':49, 'Civic Hybrid':50, 'Corolla':51, 'S-Cross':52,'Wagon R Duo':53, 'Etios Cross':54, 'Omni':55, 'Etios Liva':56, 'Swift ':57,'A-Star':58, 'Innova Crysta':59, 'Esteem':60, 'Stingray':61, 'Platinum Etios':62,'800':63, 'Kizashi':64, 'Land Cruiser':65 } ).astype(int)"
   ]
  },
  {
   "cell_type": "code",
   "execution_count": 44,
   "metadata": {},
   "outputs": [
    {
     "data": {
      "text/plain": [
       "dtype('int64')"
      ]
     },
     "execution_count": 44,
     "metadata": {},
     "output_type": "execute_result"
    }
   ],
   "source": [
    "df['Model'].dtype"
   ]
  },
  {
   "cell_type": "code",
   "execution_count": 31,
   "metadata": {},
   "outputs": [
    {
     "data": {
      "text/plain": [
       "array(['Manual', 'Automatic', 'Automated Manual Transmission'],\n",
       "      dtype=object)"
      ]
     },
     "execution_count": 31,
     "metadata": {},
     "output_type": "execute_result"
    }
   ],
   "source": [
    "df['Transmission'].unique()"
   ]
  },
  {
   "cell_type": "code",
   "execution_count": 32,
   "metadata": {},
   "outputs": [],
   "source": [
    "df['Transmission']=df['Transmission'].map({'Manual':1, 'Automatic':0, 'Automated Manual Transmission':2}).astype(int)"
   ]
  },
  {
   "cell_type": "code",
   "execution_count": 33,
   "metadata": {},
   "outputs": [
    {
     "data": {
      "text/plain": [
       "dtype('int64')"
      ]
     },
     "execution_count": 33,
     "metadata": {},
     "output_type": "execute_result"
    }
   ],
   "source": [
    "df['Transmission'].dtype"
   ]
  },
  {
   "cell_type": "code",
   "execution_count": 49,
   "metadata": {},
   "outputs": [
    {
     "data": {
      "text/plain": [
       "457"
      ]
     },
     "execution_count": 49,
     "metadata": {},
     "output_type": "execute_result"
    }
   ],
   "source": [
    "len(df['Variant'].unique())"
   ]
  },
  {
   "cell_type": "code",
   "execution_count": 50,
   "metadata": {},
   "outputs": [],
   "source": [
    "M=df['Variant'].unique()\n",
    "N=df['Variant']"
   ]
  },
  {
   "cell_type": "code",
   "execution_count": 32,
   "metadata": {},
   "outputs": [],
   "source": [
    "mam=df['Variant']"
   ]
  },
  {
   "cell_type": "code",
   "execution_count": 33,
   "metadata": {},
   "outputs": [
    {
     "data": {
      "text/plain": [
       "'VXI BS IV'"
      ]
     },
     "execution_count": 33,
     "metadata": {},
     "output_type": "execute_result"
    }
   ],
   "source": [
    "mam[165]"
   ]
  },
  {
   "cell_type": "code",
   "execution_count": 51,
   "metadata": {},
   "outputs": [
    {
     "name": "stderr",
     "output_type": "stream",
     "text": [
      "/usr/local/lib/python2.7/dist-packages/ipykernel_launcher.py:5: SettingWithCopyWarning: \n",
      "A value is trying to be set on a copy of a slice from a DataFrame\n",
      "\n",
      "See the caveats in the documentation: http://pandas.pydata.org/pandas-docs/stable/indexing.html#indexing-view-versus-copy\n",
      "  \"\"\"\n"
     ]
    }
   ],
   "source": [
    "n=0\n",
    "for i in range(457):\n",
    "    for j in range(2107):\n",
    "        if(M[i]==N[j]):\n",
    "            N[j]=n\n",
    "            \n",
    "    n=n+1"
   ]
  },
  {
   "cell_type": "code",
   "execution_count": 36,
   "metadata": {},
   "outputs": [
    {
     "data": {
      "text/plain": [
       "(369, 9)"
      ]
     },
     "execution_count": 36,
     "metadata": {},
     "output_type": "execute_result"
    }
   ],
   "source": [
    "df.shape"
   ]
  },
  {
   "cell_type": "code",
   "execution_count": 37,
   "metadata": {},
   "outputs": [
    {
     "name": "stdout",
     "output_type": "stream",
     "text": [
      "165\n"
     ]
    }
   ],
   "source": [
    "for i in range(369):\n",
    "    if(N[i]==129):\n",
    "        print(i)"
   ]
  },
  {
   "cell_type": "code",
   "execution_count": 38,
   "metadata": {},
   "outputs": [
    {
     "data": {
      "text/plain": [
       "129"
      ]
     },
     "execution_count": 38,
     "metadata": {},
     "output_type": "execute_result"
    }
   ],
   "source": [
    "N[165]"
   ]
  },
  {
   "cell_type": "code",
   "execution_count": 53,
   "metadata": {},
   "outputs": [],
   "source": [
    "df['Variant']=df['Variant'].astype(int)"
   ]
  },
  {
   "cell_type": "code",
   "execution_count": 54,
   "metadata": {},
   "outputs": [
    {
     "data": {
      "text/plain": [
       "dtype('int64')"
      ]
     },
     "execution_count": 54,
     "metadata": {},
     "output_type": "execute_result"
    }
   ],
   "source": [
    "df['Variant'].dtype"
   ]
  },
  {
   "cell_type": "code",
   "execution_count": 34,
   "metadata": {},
   "outputs": [
    {
     "data": {
      "text/plain": [
       "ID               int64\n",
       "Make             int64\n",
       "Model            int64\n",
       "Variant          int64\n",
       "Type             int64\n",
       "Fuel Type        int64\n",
       "Transmission     int64\n",
       "on road price    int64\n",
       "dtype: object"
      ]
     },
     "execution_count": 34,
     "metadata": {},
     "output_type": "execute_result"
    }
   ],
   "source": [
    "df.dtypes"
   ]
  },
  {
   "cell_type": "code",
   "execution_count": 57,
   "metadata": {},
   "outputs": [
    {
     "data": {
      "text/plain": [
       "array(['Beige', 'White', 'Silver', 'Golden', 'Red', 'Black', 'other',\n",
       "       'Blue', 'Grey', 'Maroon', 'Nexa Blue', 'Urban Titanium', 'Brown',\n",
       "       'Purple', 'Other', 'Bronze', 'Orange', 'Sleek Silver',\n",
       "       'White Orchid Pearl', 'Cyan', 'Golden Brown', 'Superior White',\n",
       "       'sky blue', 'silver', 'metallic', 'silver mica metallic', 'gold',\n",
       "       'Green', 'Cobalt', 'Premium Urban Blue', 'black', 'Silver, Beige',\n",
       "       'Pink', 'Violet', 'Polar White', 'Stardust', 'Red Passion',\n",
       "       'Flame Orange'], dtype=object)"
      ]
     },
     "execution_count": 57,
     "metadata": {},
     "output_type": "execute_result"
    }
   ],
   "source": [
    "df['Color'].unique()"
   ]
  },
  {
   "cell_type": "code",
   "execution_count": 58,
   "metadata": {},
   "outputs": [],
   "source": [
    "df[\"Color\"] = df[\"Color\"].replace( ['White','Polar White','White Orchid Pearl','Superior White'], 'White')\n",
    "df[\"Color\"] = df[\"Color\"].replace(['Silver','Sleek Silver','Silver, Beige','silver','silver mica metallic'], 'Silver')                                "
   ]
  },
  {
   "cell_type": "code",
   "execution_count": 59,
   "metadata": {},
   "outputs": [],
   "source": [
    "df[\"Color\"] = df[\"Color\"].replace(['Brown','Bronze','Stardust'], 'Brown')\n",
    "df[\"Color\"] = df[\"Color\"].replace(['Green'], 'Green' ) "
   ]
  },
  {
   "cell_type": "code",
   "execution_count": 60,
   "metadata": {},
   "outputs": [],
   "source": [
    "df[\"Color\"] = df[\"Color\"].replace(['Red','Red Passion','Pink','Maroon','Flame Orange','Orange'], 'Red')\n",
    "df[\"Color\"] = df[\"Color\"].replace(['Grey','metallic'], 'Grey') "
   ]
  },
  {
   "cell_type": "code",
   "execution_count": 61,
   "metadata": {},
   "outputs": [],
   "source": [
    "df[\"Color\"] = df[\"Color\"].replace(['Black','Urban Titanium','black'], 'Black')\n",
    "df[\"Color\"] = df[\"Color\"].replace(['Blue','Nexa Blue','Violet','Purple','Premium Urban Blue', 'Cyan','sky blue','Cobalt'], 'Blue')                                  "
   ]
  },
  {
   "cell_type": "code",
   "execution_count": 62,
   "metadata": {},
   "outputs": [],
   "source": [
    "df[\"Color\"] = df[\"Color\"].replace(['Golden','Golden Brown','gold'], 'Golden')\n",
    "df[\"Color\"] = df[\"Color\"].replace(['Beige',], 'Beige')\n",
    "#df[\"Color\"] = df[\"Color\"].replace(['Yellow'], 'Yellow')\n",
    "df[\"Color\"] = df[\"Color\"].replace(['other','Other'], 'other')                                   "
   ]
  },
  {
   "cell_type": "code",
   "execution_count": 63,
   "metadata": {},
   "outputs": [
    {
     "data": {
      "text/plain": [
       "array(['Beige', 'White', 'Silver', 'Golden', 'Red', 'Black', 'other',\n",
       "       'Blue', 'Grey', 'Brown', 'Green'], dtype=object)"
      ]
     },
     "execution_count": 63,
     "metadata": {},
     "output_type": "execute_result"
    }
   ],
   "source": [
    "df['Color'].unique()"
   ]
  },
  {
   "cell_type": "code",
   "execution_count": 64,
   "metadata": {},
   "outputs": [],
   "source": [
    "df['Color'] = df['Color'].map( {'Silver': 1,'White' : 0,'Red':2,'Golden':3,'Grey':4,'Blue':5,'Brown':6,'Green':7,'Beige':8,'other':9,'Black':10} ).astype(int)"
   ]
  },
  {
   "cell_type": "code",
   "execution_count": 65,
   "metadata": {},
   "outputs": [
    {
     "data": {
      "text/plain": [
       "dtype('int64')"
      ]
     },
     "execution_count": 65,
     "metadata": {},
     "output_type": "execute_result"
    }
   ],
   "source": [
    "df['Color'].dtype"
   ]
  },
  {
   "cell_type": "code",
   "execution_count": 35,
   "metadata": {},
   "outputs": [
    {
     "data": {
      "text/plain": [
       "ID               int64\n",
       "Make             int64\n",
       "Model            int64\n",
       "Variant          int64\n",
       "Type             int64\n",
       "Fuel Type        int64\n",
       "Transmission     int64\n",
       "on road price    int64\n",
       "dtype: object"
      ]
     },
     "execution_count": 35,
     "metadata": {},
     "output_type": "execute_result"
    }
   ],
   "source": [
    "df.dtypes"
   ]
  },
  {
   "cell_type": "code",
   "execution_count": null,
   "metadata": {},
   "outputs": [],
   "source": []
  },
  {
   "cell_type": "code",
   "execution_count": null,
   "metadata": {},
   "outputs": [],
   "source": []
  },
  {
   "cell_type": "code",
   "execution_count": null,
   "metadata": {},
   "outputs": [],
   "source": []
  },
  {
   "cell_type": "code",
   "execution_count": null,
   "metadata": {},
   "outputs": [],
   "source": []
  },
  {
   "cell_type": "code",
   "execution_count": 36,
   "metadata": {},
   "outputs": [],
   "source": [
    "df.drop(['ID'], axis=1, inplace=True)"
   ]
  },
  {
   "cell_type": "code",
   "execution_count": null,
   "metadata": {},
   "outputs": [],
   "source": []
  },
  {
   "cell_type": "code",
   "execution_count": null,
   "metadata": {},
   "outputs": [],
   "source": []
  },
  {
   "cell_type": "code",
   "execution_count": null,
   "metadata": {},
   "outputs": [],
   "source": []
  },
  {
   "cell_type": "code",
   "execution_count": 37,
   "metadata": {},
   "outputs": [],
   "source": [
    "df.to_csv('clustering_droom_new_annotated.csv')"
   ]
  },
  {
   "cell_type": "code",
   "execution_count": null,
   "metadata": {},
   "outputs": [],
   "source": []
  },
  {
   "cell_type": "code",
   "execution_count": 38,
   "metadata": {},
   "outputs": [
    {
     "data": {
      "text/plain": [
       "Index([u'Make', u'Model', u'Variant', u'Type', u'Fuel Type', u'Transmission',\n",
       "       u'on road price'],\n",
       "      dtype='object')"
      ]
     },
     "execution_count": 38,
     "metadata": {},
     "output_type": "execute_result"
    }
   ],
   "source": [
    "df.columns"
   ]
  },
  {
   "cell_type": "code",
   "execution_count": 39,
   "metadata": {},
   "outputs": [
    {
     "data": {
      "text/plain": [
       "Make             int64\n",
       "Model            int64\n",
       "Variant          int64\n",
       "Type             int64\n",
       "Fuel Type        int64\n",
       "Transmission     int64\n",
       "on road price    int64\n",
       "dtype: object"
      ]
     },
     "execution_count": 39,
     "metadata": {},
     "output_type": "execute_result"
    }
   ],
   "source": [
    "df.dtypes"
   ]
  },
  {
   "cell_type": "code",
   "execution_count": 40,
   "metadata": {},
   "outputs": [
    {
     "data": {
      "text/html": [
       "<div>\n",
       "<style scoped>\n",
       "    .dataframe tbody tr th:only-of-type {\n",
       "        vertical-align: middle;\n",
       "    }\n",
       "\n",
       "    .dataframe tbody tr th {\n",
       "        vertical-align: top;\n",
       "    }\n",
       "\n",
       "    .dataframe thead th {\n",
       "        text-align: right;\n",
       "    }\n",
       "</style>\n",
       "<table border=\"1\" class=\"dataframe\">\n",
       "  <thead>\n",
       "    <tr style=\"text-align: right;\">\n",
       "      <th></th>\n",
       "      <th>Make</th>\n",
       "      <th>Model</th>\n",
       "      <th>Variant</th>\n",
       "      <th>Type</th>\n",
       "      <th>Fuel Type</th>\n",
       "      <th>Transmission</th>\n",
       "      <th>on road price</th>\n",
       "    </tr>\n",
       "  </thead>\n",
       "  <tbody>\n",
       "    <tr>\n",
       "      <th>0</th>\n",
       "      <td>1</td>\n",
       "      <td>0</td>\n",
       "      <td>0</td>\n",
       "      <td>1</td>\n",
       "      <td>1</td>\n",
       "      <td>1</td>\n",
       "      <td>537850</td>\n",
       "    </tr>\n",
       "    <tr>\n",
       "      <th>1</th>\n",
       "      <td>1</td>\n",
       "      <td>1</td>\n",
       "      <td>1</td>\n",
       "      <td>1</td>\n",
       "      <td>1</td>\n",
       "      <td>1</td>\n",
       "      <td>613863</td>\n",
       "    </tr>\n",
       "  </tbody>\n",
       "</table>\n",
       "</div>"
      ],
      "text/plain": [
       "   Make  Model  Variant  Type  Fuel Type  Transmission  on road price\n",
       "0     1      0        0     1          1             1         537850\n",
       "1     1      1        1     1          1             1         613863"
      ]
     },
     "execution_count": 40,
     "metadata": {},
     "output_type": "execute_result"
    }
   ],
   "source": [
    "df.head(2)"
   ]
  },
  {
   "cell_type": "code",
   "execution_count": 68,
   "metadata": {},
   "outputs": [],
   "source": [
    "df.drop(['Unnamed: 0','Dep','ID','droom_price_rev','outlier' ], axis=1, inplace=True)"
   ]
  },
  {
   "cell_type": "code",
   "execution_count": 41,
   "metadata": {},
   "outputs": [
    {
     "data": {
      "text/html": [
       "<div>\n",
       "<style scoped>\n",
       "    .dataframe tbody tr th:only-of-type {\n",
       "        vertical-align: middle;\n",
       "    }\n",
       "\n",
       "    .dataframe tbody tr th {\n",
       "        vertical-align: top;\n",
       "    }\n",
       "\n",
       "    .dataframe thead th {\n",
       "        text-align: right;\n",
       "    }\n",
       "</style>\n",
       "<table border=\"1\" class=\"dataframe\">\n",
       "  <thead>\n",
       "    <tr style=\"text-align: right;\">\n",
       "      <th></th>\n",
       "      <th>Make</th>\n",
       "      <th>Model</th>\n",
       "      <th>Variant</th>\n",
       "      <th>Type</th>\n",
       "      <th>Fuel Type</th>\n",
       "      <th>Transmission</th>\n",
       "      <th>on road price</th>\n",
       "    </tr>\n",
       "  </thead>\n",
       "  <tbody>\n",
       "    <tr>\n",
       "      <th>0</th>\n",
       "      <td>1</td>\n",
       "      <td>0</td>\n",
       "      <td>0</td>\n",
       "      <td>1</td>\n",
       "      <td>1</td>\n",
       "      <td>1</td>\n",
       "      <td>537850</td>\n",
       "    </tr>\n",
       "    <tr>\n",
       "      <th>1</th>\n",
       "      <td>1</td>\n",
       "      <td>1</td>\n",
       "      <td>1</td>\n",
       "      <td>1</td>\n",
       "      <td>1</td>\n",
       "      <td>1</td>\n",
       "      <td>613863</td>\n",
       "    </tr>\n",
       "  </tbody>\n",
       "</table>\n",
       "</div>"
      ],
      "text/plain": [
       "   Make  Model  Variant  Type  Fuel Type  Transmission  on road price\n",
       "0     1      0        0     1          1             1         537850\n",
       "1     1      1        1     1          1             1         613863"
      ]
     },
     "execution_count": 41,
     "metadata": {},
     "output_type": "execute_result"
    }
   ],
   "source": [
    "df.head(2)"
   ]
  },
  {
   "cell_type": "code",
   "execution_count": 42,
   "metadata": {},
   "outputs": [
    {
     "data": {
      "text/plain": [
       "Make             int64\n",
       "Model            int64\n",
       "Variant          int64\n",
       "Type             int64\n",
       "Fuel Type        int64\n",
       "Transmission     int64\n",
       "on road price    int64\n",
       "dtype: object"
      ]
     },
     "execution_count": 42,
     "metadata": {},
     "output_type": "execute_result"
    }
   ],
   "source": [
    "df.dtypes"
   ]
  },
  {
   "cell_type": "code",
   "execution_count": 43,
   "metadata": {},
   "outputs": [],
   "source": [
    "#f1=df['Age'].values\n",
    "#f2=df['Color'].values\n",
    "#f3=df['Dep'].values\n",
    "f1=df['Fuel Type'].values\n",
    "#f5=df['Heath_score'].values\n",
    "#f6=df['Kms_run'].values\n",
    "f2=df['Make'].values\n",
    "f3=df['Model'].values\n",
    "f4=df['Transmission'].values\n",
    "f5=df['Type'].values\n",
    "f6=df['Variant'].values\n",
    "f7=df['on road price'].values"
   ]
  },
  {
   "cell_type": "code",
   "execution_count": null,
   "metadata": {},
   "outputs": [],
   "source": []
  },
  {
   "cell_type": "markdown",
   "metadata": {},
   "source": [
    "plt.scatter(f1,f2,f3,f4, f5,f6,f7,f8)\n",
    "plt.show()"
   ]
  },
  {
   "cell_type": "code",
   "execution_count": 48,
   "metadata": {},
   "outputs": [],
   "source": [
    "x=np.array([f1,f2,f4, f5,f6,f7])"
   ]
  },
  {
   "cell_type": "code",
   "execution_count": 49,
   "metadata": {},
   "outputs": [
    {
     "data": {
      "text/plain": [
       "array([[      1,       1,       1, ...,       1,       0,       0],\n",
       "       [      1,       1,       1, ...,       2,       2,       3],\n",
       "       [      1,       1,       1, ...,       2,       2,       1],\n",
       "       [      1,       1,       1, ...,       1,       2,       2],\n",
       "       [      0,       1,       0, ...,     471,     472,     473],\n",
       "       [ 537850,  613863,  678359, ...,  611251,  997154, 1529402]])"
      ]
     },
     "execution_count": 49,
     "metadata": {},
     "output_type": "execute_result"
    }
   ],
   "source": [
    "x"
   ]
  },
  {
   "cell_type": "code",
   "execution_count": 50,
   "metadata": {},
   "outputs": [
    {
     "data": {
      "text/plain": [
       "(6, 563)"
      ]
     },
     "execution_count": 50,
     "metadata": {},
     "output_type": "execute_result"
    }
   ],
   "source": [
    "x.shape"
   ]
  },
  {
   "cell_type": "code",
   "execution_count": 51,
   "metadata": {},
   "outputs": [],
   "source": [
    "x.shape\n",
    "y=np.zeros((x.shape[1], x.shape[0]))"
   ]
  },
  {
   "cell_type": "code",
   "execution_count": 52,
   "metadata": {},
   "outputs": [
    {
     "data": {
      "text/plain": [
       "array([[0., 0., 0., 0., 0., 0.],\n",
       "       [0., 0., 0., 0., 0., 0.],\n",
       "       [0., 0., 0., 0., 0., 0.],\n",
       "       ...,\n",
       "       [0., 0., 0., 0., 0., 0.],\n",
       "       [0., 0., 0., 0., 0., 0.],\n",
       "       [0., 0., 0., 0., 0., 0.]])"
      ]
     },
     "execution_count": 52,
     "metadata": {},
     "output_type": "execute_result"
    }
   ],
   "source": [
    "y"
   ]
  },
  {
   "cell_type": "code",
   "execution_count": 53,
   "metadata": {},
   "outputs": [],
   "source": [
    "for i in range(0,563):\n",
    "    y[i]=x[:,i].reshape(1,x.shape[0])"
   ]
  },
  {
   "cell_type": "code",
   "execution_count": 54,
   "metadata": {},
   "outputs": [
    {
     "data": {
      "text/plain": [
       "array([[1.000000e+00, 1.000000e+00, 1.000000e+00, 1.000000e+00,\n",
       "        0.000000e+00, 5.378500e+05],\n",
       "       [1.000000e+00, 1.000000e+00, 1.000000e+00, 1.000000e+00,\n",
       "        1.000000e+00, 6.138630e+05],\n",
       "       [1.000000e+00, 1.000000e+00, 1.000000e+00, 1.000000e+00,\n",
       "        0.000000e+00, 6.783590e+05],\n",
       "       ...,\n",
       "       [1.000000e+00, 2.000000e+00, 2.000000e+00, 1.000000e+00,\n",
       "        4.710000e+02, 6.112510e+05],\n",
       "       [0.000000e+00, 2.000000e+00, 2.000000e+00, 2.000000e+00,\n",
       "        4.720000e+02, 9.971540e+05],\n",
       "       [0.000000e+00, 3.000000e+00, 1.000000e+00, 2.000000e+00,\n",
       "        4.730000e+02, 1.529402e+06]])"
      ]
     },
     "execution_count": 54,
     "metadata": {},
     "output_type": "execute_result"
    }
   ],
   "source": [
    "y"
   ]
  },
  {
   "cell_type": "code",
   "execution_count": 55,
   "metadata": {},
   "outputs": [
    {
     "data": {
      "text/plain": [
       "563"
      ]
     },
     "execution_count": 55,
     "metadata": {},
     "output_type": "execute_result"
    }
   ],
   "source": [
    "z=np.array(y)\n",
    "len(z)"
   ]
  },
  {
   "cell_type": "code",
   "execution_count": 56,
   "metadata": {},
   "outputs": [
    {
     "data": {
      "text/plain": [
       "array([[1.000000e+00, 1.000000e+00, 1.000000e+00, 1.000000e+00,\n",
       "        0.000000e+00, 5.378500e+05],\n",
       "       [1.000000e+00, 1.000000e+00, 1.000000e+00, 1.000000e+00,\n",
       "        1.000000e+00, 6.138630e+05],\n",
       "       [1.000000e+00, 1.000000e+00, 1.000000e+00, 1.000000e+00,\n",
       "        0.000000e+00, 6.783590e+05],\n",
       "       ...,\n",
       "       [1.000000e+00, 2.000000e+00, 2.000000e+00, 1.000000e+00,\n",
       "        4.710000e+02, 6.112510e+05],\n",
       "       [0.000000e+00, 2.000000e+00, 2.000000e+00, 2.000000e+00,\n",
       "        4.720000e+02, 9.971540e+05],\n",
       "       [0.000000e+00, 3.000000e+00, 1.000000e+00, 2.000000e+00,\n",
       "        4.730000e+02, 1.529402e+06]])"
      ]
     },
     "execution_count": 56,
     "metadata": {},
     "output_type": "execute_result"
    }
   ],
   "source": [
    "z"
   ]
  },
  {
   "cell_type": "code",
   "execution_count": 57,
   "metadata": {},
   "outputs": [],
   "source": [
    "kmeans=KMeans(n_clusters=20)\n",
    "kmeans.fit(z)\n",
    "centroids=kmeans.cluster_centers_\n",
    "labels=kmeans.labels_"
   ]
  },
  {
   "cell_type": "code",
   "execution_count": 60,
   "metadata": {},
   "outputs": [
    {
     "data": {
      "text/plain": [
       "array([17,  0, 15, 18, 11, 15, 15, 11, 11,  6, 19, 11, 15,  0,  0, 14, 15,\n",
       "       15,  0,  8, 15, 17, 15,  7, 15, 17, 15,  0, 15,  0, 17, 17, 11, 10,\n",
       "       19, 12, 10,  6,  3, 14,  8, 14,  5, 14,  1,  1, 19,  0,  3, 17, 15,\n",
       "        0,  7,  8, 10,  4, 10,  7,  3, 10,  5,  0, 17,  8,  5,  8, 15,  8,\n",
       "        0, 17, 10,  5,  5,  0, 17,  5, 19,  0, 17, 11,  6,  5,  7, 10, 14,\n",
       "       11, 19,  5,  0, 15, 15,  8, 15,  8, 15, 11,  5,  5,  5,  6, 12, 17,\n",
       "       17, 11,  0, 17,  6,  0,  5, 19,  5,  5,  3, 11, 11,  0, 19, 19, 15,\n",
       "       15, 17, 15, 11,  8, 15, 17, 19,  0, 19, 19, 17,  0, 11,  7, 17,  7,\n",
       "       17, 10,  5, 15,  7, 13,  6,  3, 11,  0,  8,  3,  5, 11, 12, 10,  3,\n",
       "        5,  8, 19, 14, 15, 14, 15,  8,  0,  8,  3, 10, 15,  3,  5, 19, 10,\n",
       "        8, 17, 17,  9, 11, 14,  8,  0,  6, 14, 15, 16, 18,  5, 10, 15, 14,\n",
       "       11, 18, 17, 11, 11, 19, 12, 10, 15, 10, 19,  4,  8, 17,  8, 10, 17,\n",
       "       15,  0,  5,  5,  6, 17, 11, 17, 11,  8, 17,  8, 19,  5,  7,  3,  8,\n",
       "       19,  5, 15, 19, 10, 17, 11, 11, 15, 15,  0,  0,  6, 15,  0, 15, 17,\n",
       "       14, 11,  7,  8,  3, 19,  5, 11,  8, 10, 19,  5, 17,  0, 17, 19, 11,\n",
       "        0,  5,  5, 14, 11, 19, 19, 15,  8,  0, 19, 15, 15, 15, 15, 15,  1,\n",
       "       11, 11,  7,  8,  6, 11, 19,  1,  3, 12,  1,  3, 16,  0,  3, 10, 14,\n",
       "        5, 19, 10,  3,  1,  8, 15,  8, 18,  3,  3,  8,  1,  8, 19,  4, 16,\n",
       "       19,  6, 18,  5, 13,  5, 15, 16, 14, 14,  5, 14, 15, 19, 19,  8,  8,\n",
       "        8,  6, 10, 16,  5,  8, 19, 10, 19, 14,  8,  3,  8,  3,  5, 15, 14,\n",
       "       10, 14, 15, 10,  0,  6,  5, 15,  0, 18, 17, 14, 14, 17,  0,  3,  3,\n",
       "        5, 10,  3,  6,  8,  7, 17, 19, 14,  7,  3, 12,  6, 14,  0, 19, 14,\n",
       "        8, 11, 15, 11, 17,  7, 17, 14, 19,  3, 16,  4,  4,  5, 19,  7, 17,\n",
       "        5, 16, 13, 12,  8,  6,  5, 17, 11, 18, 10, 19,  7, 11, 15, 17, 11,\n",
       "        7,  3, 15,  6, 17,  8,  0,  5, 17,  5,  0,  6, 18, 16, 13, 12,  8,\n",
       "       14, 11,  5, 11, 11,  4,  8,  6, 13,  9, 17, 15, 10,  5, 17,  8,  8,\n",
       "       11, 17,  0, 11, 17, 17, 17,  5, 12, 15,  8, 14,  0, 17, 11,  6,  3,\n",
       "        4,  7, 19, 10, 14, 11,  7,  7,  6, 14,  5, 14, 11, 12, 14, 19, 14,\n",
       "        6, 19,  4,  6,  3,  6, 15, 12, 15, 11,  8, 19,  7,  3,  6, 15,  8,\n",
       "       17, 11,  6, 10,  1, 11, 11,  7, 15, 11, 10, 15, 17,  7,  0, 14,  5,\n",
       "       11, 19,  0,  5, 11,  7,  7,  0,  8,  0,  7, 19,  7,  0, 11,  5, 17,\n",
       "       17, 19, 19, 11, 15, 15, 15,  7, 14, 17,  8, 19, 19, 15, 10, 17, 15,\n",
       "       17,  8, 15,  8, 14, 18, 15,  6,  8, 12,  2,  0,  0, 17,  3, 19,  0,\n",
       "       14, 10], dtype=int32)"
      ]
     },
     "execution_count": 60,
     "metadata": {},
     "output_type": "execute_result"
    }
   ],
   "source": [
    "labels"
   ]
  },
  {
   "cell_type": "code",
   "execution_count": 61,
   "metadata": {},
   "outputs": [
    {
     "data": {
      "text/plain": [
       "563"
      ]
     },
     "execution_count": 61,
     "metadata": {},
     "output_type": "execute_result"
    }
   ],
   "source": [
    "len(labels)"
   ]
  },
  {
   "cell_type": "code",
   "execution_count": 62,
   "metadata": {},
   "outputs": [
    {
     "name": "stdout",
     "output_type": "stream",
     "text": [
      "[[8.00000000e-01 1.37777778e+00 1.04444444e+00 1.17777778e+00\n",
      "  1.95222222e+02 6.17181311e+05]\n",
      " [1.00000000e+00 5.00000000e-01 5.00000000e-01 2.12500000e+00\n",
      "  1.92375000e+02 2.46159862e+06]\n",
      " [1.00000000e+00 3.00000000e+00 0.00000000e+00 3.00000000e+00\n",
      "  4.67000000e+02 1.09546640e+07]\n",
      " [4.82758621e-01 1.37931034e+00 8.27586207e-01 2.34482759e+00\n",
      "  2.43241379e+02 1.33201493e+06]\n",
      " [2.50000000e-01 2.37500000e+00 6.25000000e-01 2.75000000e+00\n",
      "  2.91375000e+02 3.14168862e+06]\n",
      " [8.08510638e-01 1.17021277e+00 8.51063830e-01 1.80851064e+00\n",
      "  1.85340426e+02 8.31895043e+05]\n",
      " [5.18518519e-01 2.18518519e+00 7.03703704e-01 2.88888889e+00\n",
      "  2.55555556e+02 1.71760922e+06]\n",
      " [1.03703704e+00 1.85185185e+00 1.00000000e+00 1.29629630e+00\n",
      "  2.45259259e+02 3.52834296e+05]\n",
      " [5.80000000e-01 1.34000000e+00 7.60000000e-01 2.56000000e+00\n",
      "  2.38300000e+02 1.17605056e+06]\n",
      " [0.00000000e+00 2.00000000e+00 0.00000000e+00 3.00000000e+00\n",
      "  2.62000000e+02 3.92768250e+06]\n",
      " [4.51612903e-01 1.38709677e+00 7.09677419e-01 2.45161290e+00\n",
      "  2.22322581e+02 1.48974116e+06]\n",
      " [1.09615385e+00 1.57692308e+00 9.61538462e-01 1.23076923e+00\n",
      "  2.15115385e+02 4.47313038e+05]\n",
      " [4.16666667e-01 2.16666667e+00 5.83333333e-01 2.83333333e+00\n",
      "  2.57666667e+02 1.95265275e+06]\n",
      " [6.00000000e-01 2.40000000e+00 2.00000000e-01 2.40000000e+00\n",
      "  2.32000000e+02 3.44249700e+06]\n",
      " [5.83333333e-01 1.30555556e+00 9.16666667e-01 2.36111111e+00\n",
      "  2.51805556e+02 1.04035708e+06]\n",
      " [7.77777778e-01 1.25396825e+00 8.73015873e-01 1.34920635e+00\n",
      "  1.81507937e+02 7.21977810e+05]\n",
      " [8.75000000e-01 1.25000000e+00 2.50000000e-01 2.37500000e+00\n",
      "  2.84625000e+02 2.74149100e+06]\n",
      " [1.01818182e+00 1.60000000e+00 8.90909091e-01 1.12727273e+00\n",
      "  2.04836364e+02 5.30878455e+05]\n",
      " [5.55555556e-01 1.55555556e+00 4.44444444e-01 2.00000000e+00\n",
      "  2.36555556e+02 2.21626078e+06]\n",
      " [5.62500000e-01 1.14583333e+00 8.54166667e-01 2.06250000e+00\n",
      "  2.22625000e+02 9.36326625e+05]]\n"
     ]
    }
   ],
   "source": [
    "print centroids"
   ]
  },
  {
   "cell_type": "code",
   "execution_count": 102,
   "metadata": {},
   "outputs": [
    {
     "ename": "SyntaxError",
     "evalue": "invalid syntax (<ipython-input-102-10c9498264bb>, line 6)",
     "output_type": "error",
     "traceback": [
      "\u001b[0;36m  File \u001b[0;32m\"<ipython-input-102-10c9498264bb>\"\u001b[0;36m, line \u001b[0;32m6\u001b[0m\n\u001b[0;31m    plt.plot(z[i][0], z[i][1], z[i][2]], markersize=10)\u001b[0m\n\u001b[0m                                      ^\u001b[0m\n\u001b[0;31mSyntaxError\u001b[0m\u001b[0;31m:\u001b[0m invalid syntax\n"
     ]
    }
   ],
   "source": [
    "#print centroids\n",
    "#print labels\n",
    "#colors=[\"g.\", \"r.\", \"c.\",\"y.\", \"b.\", \"m.\"]\n",
    "for i in range(len(z)):\n",
    "    #print (\"coordinate:\", z[i], \"label\", labels[i])\n",
    "    plt.plot(z[i][0], z[i][1], z[i][2]], markersize=10)\n",
    "plt.scatter(centroids[ :,0], centroids[:,1], marker='x', s=150, linewidths=5, zorder=10)"
   ]
  },
  {
   "cell_type": "code",
   "execution_count": 66,
   "metadata": {},
   "outputs": [
    {
     "data": {
      "text/html": [
       "<div>\n",
       "<style scoped>\n",
       "    .dataframe tbody tr th:only-of-type {\n",
       "        vertical-align: middle;\n",
       "    }\n",
       "\n",
       "    .dataframe tbody tr th {\n",
       "        vertical-align: top;\n",
       "    }\n",
       "\n",
       "    .dataframe thead th {\n",
       "        text-align: right;\n",
       "    }\n",
       "</style>\n",
       "<table border=\"1\" class=\"dataframe\">\n",
       "  <thead>\n",
       "    <tr style=\"text-align: right;\">\n",
       "      <th></th>\n",
       "      <th>ID</th>\n",
       "      <th>Make</th>\n",
       "      <th>Model</th>\n",
       "      <th>Variant</th>\n",
       "      <th>Type</th>\n",
       "      <th>Fuel Type</th>\n",
       "      <th>Transmission</th>\n",
       "      <th>on road price</th>\n",
       "    </tr>\n",
       "  </thead>\n",
       "  <tbody>\n",
       "    <tr>\n",
       "      <th>0</th>\n",
       "      <td>1</td>\n",
       "      <td>Hyundai</td>\n",
       "      <td>I10</td>\n",
       "      <td>Sportz 1.2</td>\n",
       "      <td>Hatchback</td>\n",
       "      <td>Petrol</td>\n",
       "      <td>Manual</td>\n",
       "      <td>537850</td>\n",
       "    </tr>\n",
       "    <tr>\n",
       "      <th>1</th>\n",
       "      <td>2</td>\n",
       "      <td>Hyundai</td>\n",
       "      <td>I20</td>\n",
       "      <td>Magna (O) 1.2</td>\n",
       "      <td>Hatchback</td>\n",
       "      <td>Petrol</td>\n",
       "      <td>Manual</td>\n",
       "      <td>613863</td>\n",
       "    </tr>\n",
       "  </tbody>\n",
       "</table>\n",
       "</div>"
      ],
      "text/plain": [
       "   ID     Make Model        Variant       Type Fuel Type Transmission  \\\n",
       "0   1  Hyundai   I10     Sportz 1.2  Hatchback    Petrol       Manual   \n",
       "1   2  Hyundai   I20  Magna (O) 1.2  Hatchback    Petrol       Manual   \n",
       "\n",
       "   on road price  \n",
       "0         537850  \n",
       "1         613863  "
      ]
     },
     "execution_count": 66,
     "metadata": {},
     "output_type": "execute_result"
    }
   ],
   "source": [
    "df.head(2)"
   ]
  },
  {
   "cell_type": "code",
   "execution_count": 67,
   "metadata": {},
   "outputs": [],
   "source": [
    "df['ID']=labels"
   ]
  },
  {
   "cell_type": "code",
   "execution_count": 68,
   "metadata": {},
   "outputs": [
    {
     "data": {
      "text/html": [
       "<div>\n",
       "<style scoped>\n",
       "    .dataframe tbody tr th:only-of-type {\n",
       "        vertical-align: middle;\n",
       "    }\n",
       "\n",
       "    .dataframe tbody tr th {\n",
       "        vertical-align: top;\n",
       "    }\n",
       "\n",
       "    .dataframe thead th {\n",
       "        text-align: right;\n",
       "    }\n",
       "</style>\n",
       "<table border=\"1\" class=\"dataframe\">\n",
       "  <thead>\n",
       "    <tr style=\"text-align: right;\">\n",
       "      <th></th>\n",
       "      <th>ID</th>\n",
       "      <th>Make</th>\n",
       "      <th>Model</th>\n",
       "      <th>Variant</th>\n",
       "      <th>Type</th>\n",
       "      <th>Fuel Type</th>\n",
       "      <th>Transmission</th>\n",
       "      <th>on road price</th>\n",
       "    </tr>\n",
       "  </thead>\n",
       "  <tbody>\n",
       "    <tr>\n",
       "      <th>0</th>\n",
       "      <td>17</td>\n",
       "      <td>Hyundai</td>\n",
       "      <td>I10</td>\n",
       "      <td>Sportz 1.2</td>\n",
       "      <td>Hatchback</td>\n",
       "      <td>Petrol</td>\n",
       "      <td>Manual</td>\n",
       "      <td>537850</td>\n",
       "    </tr>\n",
       "    <tr>\n",
       "      <th>1</th>\n",
       "      <td>0</td>\n",
       "      <td>Hyundai</td>\n",
       "      <td>I20</td>\n",
       "      <td>Magna (O) 1.2</td>\n",
       "      <td>Hatchback</td>\n",
       "      <td>Petrol</td>\n",
       "      <td>Manual</td>\n",
       "      <td>613863</td>\n",
       "    </tr>\n",
       "  </tbody>\n",
       "</table>\n",
       "</div>"
      ],
      "text/plain": [
       "   ID     Make Model        Variant       Type Fuel Type Transmission  \\\n",
       "0  17  Hyundai   I10     Sportz 1.2  Hatchback    Petrol       Manual   \n",
       "1   0  Hyundai   I20  Magna (O) 1.2  Hatchback    Petrol       Manual   \n",
       "\n",
       "   on road price  \n",
       "0         537850  \n",
       "1         613863  "
      ]
     },
     "execution_count": 68,
     "metadata": {},
     "output_type": "execute_result"
    }
   ],
   "source": [
    "df.head(2)"
   ]
  },
  {
   "cell_type": "code",
   "execution_count": 69,
   "metadata": {},
   "outputs": [],
   "source": [
    "df=df.rename(columns={'ID':'labels'})"
   ]
  },
  {
   "cell_type": "code",
   "execution_count": 70,
   "metadata": {},
   "outputs": [
    {
     "data": {
      "text/html": [
       "<div>\n",
       "<style scoped>\n",
       "    .dataframe tbody tr th:only-of-type {\n",
       "        vertical-align: middle;\n",
       "    }\n",
       "\n",
       "    .dataframe tbody tr th {\n",
       "        vertical-align: top;\n",
       "    }\n",
       "\n",
       "    .dataframe thead th {\n",
       "        text-align: right;\n",
       "    }\n",
       "</style>\n",
       "<table border=\"1\" class=\"dataframe\">\n",
       "  <thead>\n",
       "    <tr style=\"text-align: right;\">\n",
       "      <th></th>\n",
       "      <th>labels</th>\n",
       "      <th>Make</th>\n",
       "      <th>Model</th>\n",
       "      <th>Variant</th>\n",
       "      <th>Type</th>\n",
       "      <th>Fuel Type</th>\n",
       "      <th>Transmission</th>\n",
       "      <th>on road price</th>\n",
       "    </tr>\n",
       "  </thead>\n",
       "  <tbody>\n",
       "    <tr>\n",
       "      <th>0</th>\n",
       "      <td>17</td>\n",
       "      <td>Hyundai</td>\n",
       "      <td>I10</td>\n",
       "      <td>Sportz 1.2</td>\n",
       "      <td>Hatchback</td>\n",
       "      <td>Petrol</td>\n",
       "      <td>Manual</td>\n",
       "      <td>537850</td>\n",
       "    </tr>\n",
       "    <tr>\n",
       "      <th>1</th>\n",
       "      <td>0</td>\n",
       "      <td>Hyundai</td>\n",
       "      <td>I20</td>\n",
       "      <td>Magna (O) 1.2</td>\n",
       "      <td>Hatchback</td>\n",
       "      <td>Petrol</td>\n",
       "      <td>Manual</td>\n",
       "      <td>613863</td>\n",
       "    </tr>\n",
       "  </tbody>\n",
       "</table>\n",
       "</div>"
      ],
      "text/plain": [
       "   labels     Make Model        Variant       Type Fuel Type Transmission  \\\n",
       "0      17  Hyundai   I10     Sportz 1.2  Hatchback    Petrol       Manual   \n",
       "1       0  Hyundai   I20  Magna (O) 1.2  Hatchback    Petrol       Manual   \n",
       "\n",
       "   on road price  \n",
       "0         537850  \n",
       "1         613863  "
      ]
     },
     "execution_count": 70,
     "metadata": {},
     "output_type": "execute_result"
    }
   ],
   "source": [
    "df.head(2)"
   ]
  },
  {
   "cell_type": "code",
   "execution_count": 96,
   "metadata": {},
   "outputs": [],
   "source": [
    "df['Kms_run']=df['Kms_run'].replace(\",\",\"\",regex=True)"
   ]
  },
  {
   "cell_type": "code",
   "execution_count": 97,
   "metadata": {},
   "outputs": [],
   "source": [
    "df['Kms_run']=df['Kms_run'].astype(int)"
   ]
  },
  {
   "cell_type": "code",
   "execution_count": 98,
   "metadata": {},
   "outputs": [
    {
     "data": {
      "text/plain": [
       "dtype('int64')"
      ]
     },
     "execution_count": 98,
     "metadata": {},
     "output_type": "execute_result"
    }
   ],
   "source": [
    "df['Kms_run'].dtype"
   ]
  },
  {
   "cell_type": "code",
   "execution_count": 99,
   "metadata": {},
   "outputs": [],
   "source": [
    "df.drop(['ID','droom_price_rev','outlier'], axis=1, inplace=True)"
   ]
  },
  {
   "cell_type": "code",
   "execution_count": 74,
   "metadata": {},
   "outputs": [
    {
     "data": {
      "text/plain": [
       "(563, 8)"
      ]
     },
     "execution_count": 74,
     "metadata": {},
     "output_type": "execute_result"
    }
   ],
   "source": [
    "df.shape"
   ]
  },
  {
   "cell_type": "code",
   "execution_count": 71,
   "metadata": {},
   "outputs": [
    {
     "data": {
      "text/html": [
       "<div>\n",
       "<style scoped>\n",
       "    .dataframe tbody tr th:only-of-type {\n",
       "        vertical-align: middle;\n",
       "    }\n",
       "\n",
       "    .dataframe tbody tr th {\n",
       "        vertical-align: top;\n",
       "    }\n",
       "\n",
       "    .dataframe thead th {\n",
       "        text-align: right;\n",
       "    }\n",
       "</style>\n",
       "<table border=\"1\" class=\"dataframe\">\n",
       "  <thead>\n",
       "    <tr style=\"text-align: right;\">\n",
       "      <th></th>\n",
       "      <th>labels</th>\n",
       "      <th>Make</th>\n",
       "      <th>Model</th>\n",
       "      <th>Variant</th>\n",
       "      <th>Type</th>\n",
       "      <th>Fuel Type</th>\n",
       "      <th>Transmission</th>\n",
       "      <th>on road price</th>\n",
       "    </tr>\n",
       "  </thead>\n",
       "  <tbody>\n",
       "    <tr>\n",
       "      <th>0</th>\n",
       "      <td>17</td>\n",
       "      <td>Hyundai</td>\n",
       "      <td>I10</td>\n",
       "      <td>Sportz 1.2</td>\n",
       "      <td>Hatchback</td>\n",
       "      <td>Petrol</td>\n",
       "      <td>Manual</td>\n",
       "      <td>537850</td>\n",
       "    </tr>\n",
       "    <tr>\n",
       "      <th>1</th>\n",
       "      <td>0</td>\n",
       "      <td>Hyundai</td>\n",
       "      <td>I20</td>\n",
       "      <td>Magna (O) 1.2</td>\n",
       "      <td>Hatchback</td>\n",
       "      <td>Petrol</td>\n",
       "      <td>Manual</td>\n",
       "      <td>613863</td>\n",
       "    </tr>\n",
       "  </tbody>\n",
       "</table>\n",
       "</div>"
      ],
      "text/plain": [
       "   labels     Make Model        Variant       Type Fuel Type Transmission  \\\n",
       "0      17  Hyundai   I10     Sportz 1.2  Hatchback    Petrol       Manual   \n",
       "1       0  Hyundai   I20  Magna (O) 1.2  Hatchback    Petrol       Manual   \n",
       "\n",
       "   on road price  \n",
       "0         537850  \n",
       "1         613863  "
      ]
     },
     "execution_count": 71,
     "metadata": {},
     "output_type": "execute_result"
    }
   ],
   "source": [
    "df.head(2)"
   ]
  },
  {
   "cell_type": "code",
   "execution_count": 72,
   "metadata": {},
   "outputs": [],
   "source": [
    "df=df.rename(columns={'Fuel Type':'Fuel_type', 'on road price':'on_road_price'})"
   ]
  },
  {
   "cell_type": "code",
   "execution_count": 73,
   "metadata": {},
   "outputs": [
    {
     "data": {
      "text/html": [
       "<div>\n",
       "<style scoped>\n",
       "    .dataframe tbody tr th:only-of-type {\n",
       "        vertical-align: middle;\n",
       "    }\n",
       "\n",
       "    .dataframe tbody tr th {\n",
       "        vertical-align: top;\n",
       "    }\n",
       "\n",
       "    .dataframe thead th {\n",
       "        text-align: right;\n",
       "    }\n",
       "</style>\n",
       "<table border=\"1\" class=\"dataframe\">\n",
       "  <thead>\n",
       "    <tr style=\"text-align: right;\">\n",
       "      <th></th>\n",
       "      <th>labels</th>\n",
       "      <th>Make</th>\n",
       "      <th>Model</th>\n",
       "      <th>Variant</th>\n",
       "      <th>Type</th>\n",
       "      <th>Fuel_type</th>\n",
       "      <th>Transmission</th>\n",
       "      <th>on_road_price</th>\n",
       "    </tr>\n",
       "  </thead>\n",
       "  <tbody>\n",
       "    <tr>\n",
       "      <th>0</th>\n",
       "      <td>17</td>\n",
       "      <td>Hyundai</td>\n",
       "      <td>I10</td>\n",
       "      <td>Sportz 1.2</td>\n",
       "      <td>Hatchback</td>\n",
       "      <td>Petrol</td>\n",
       "      <td>Manual</td>\n",
       "      <td>537850</td>\n",
       "    </tr>\n",
       "    <tr>\n",
       "      <th>1</th>\n",
       "      <td>0</td>\n",
       "      <td>Hyundai</td>\n",
       "      <td>I20</td>\n",
       "      <td>Magna (O) 1.2</td>\n",
       "      <td>Hatchback</td>\n",
       "      <td>Petrol</td>\n",
       "      <td>Manual</td>\n",
       "      <td>613863</td>\n",
       "    </tr>\n",
       "  </tbody>\n",
       "</table>\n",
       "</div>"
      ],
      "text/plain": [
       "   labels     Make Model        Variant       Type Fuel_type Transmission  \\\n",
       "0      17  Hyundai   I10     Sportz 1.2  Hatchback    Petrol       Manual   \n",
       "1       0  Hyundai   I20  Magna (O) 1.2  Hatchback    Petrol       Manual   \n",
       "\n",
       "   on_road_price  \n",
       "0         537850  \n",
       "1         613863  "
      ]
     },
     "execution_count": 73,
     "metadata": {},
     "output_type": "execute_result"
    }
   ],
   "source": [
    "df.head(2)"
   ]
  },
  {
   "cell_type": "code",
   "execution_count": 132,
   "metadata": {},
   "outputs": [
    {
     "data": {
      "text/html": [
       "<div>\n",
       "<style scoped>\n",
       "    .dataframe tbody tr th:only-of-type {\n",
       "        vertical-align: middle;\n",
       "    }\n",
       "\n",
       "    .dataframe tbody tr th {\n",
       "        vertical-align: top;\n",
       "    }\n",
       "\n",
       "    .dataframe thead th {\n",
       "        text-align: right;\n",
       "    }\n",
       "</style>\n",
       "<table border=\"1\" class=\"dataframe\">\n",
       "  <thead>\n",
       "    <tr style=\"text-align: right;\">\n",
       "      <th></th>\n",
       "      <th>Fuel_type</th>\n",
       "      <th>Make</th>\n",
       "      <th>Model</th>\n",
       "      <th>Transmission</th>\n",
       "      <th>Type</th>\n",
       "      <th>Variant</th>\n",
       "      <th>labels</th>\n",
       "      <th>on_road_price</th>\n",
       "    </tr>\n",
       "  </thead>\n",
       "  <tbody>\n",
       "    <tr>\n",
       "      <th>0</th>\n",
       "      <td>Diesel</td>\n",
       "      <td>Hyundai</td>\n",
       "      <td>Elite I20</td>\n",
       "      <td>Manual</td>\n",
       "      <td>Hatchback</td>\n",
       "      <td>Asta 1.4 CRDI (O)</td>\n",
       "      <td>19</td>\n",
       "      <td>972640</td>\n",
       "    </tr>\n",
       "    <tr>\n",
       "      <th>1</th>\n",
       "      <td>Petrol</td>\n",
       "      <td>Honda</td>\n",
       "      <td>City</td>\n",
       "      <td>Manual</td>\n",
       "      <td>Sedan</td>\n",
       "      <td>1.5 S MT</td>\n",
       "      <td>19</td>\n",
       "      <td>944779</td>\n",
       "    </tr>\n",
       "  </tbody>\n",
       "</table>\n",
       "</div>"
      ],
      "text/plain": [
       "  Fuel_type     Make      Model Transmission       Type            Variant  \\\n",
       "0    Diesel  Hyundai  Elite I20       Manual  Hatchback  Asta 1.4 CRDI (O)   \n",
       "1    Petrol    Honda       City       Manual      Sedan           1.5 S MT   \n",
       "\n",
       "   labels  on_road_price  \n",
       "0      19         972640  \n",
       "1      19         944779  "
      ]
     },
     "execution_count": 132,
     "metadata": {},
     "output_type": "execute_result"
    }
   ],
   "source": [
    "labels=[]\n",
    "Make=[]\n",
    "Model=[]\n",
    "Variant=[]\n",
    "Type=[]\n",
    "Fuel_type=[]\n",
    "Transmission=[]\n",
    "on_road_price=[]\n",
    "for i in range(0,563):\n",
    "    if df['labels'][i]==19:\n",
    "        labels.append(df['labels'][i])\n",
    "        Fuel_type.append(df['Fuel_type'][i])\n",
    "        Make.append(df['Make'][i])\n",
    "        Model.append(df['Model'][i])\n",
    "        Transmission.append(df['Transmission'][i])\n",
    "        Type.append(df['Type'][i])\n",
    "        Variant.append(df['Variant'][i])\n",
    "        on_road_price.append(df['on_road_price'][i])\n",
    "        \n",
    "        \n",
    "data={'labels':labels,'Fuel_type':Fuel_type ,'Make':Make,'Model':Model,'Transmission':Transmission,'Type':Type, 'Variant':Variant, 'on_road_price':on_road_price }\n",
    "dfe=pd.DataFrame(data=data)\n",
    "dfe.head(2)\n"
   ]
  },
  {
   "cell_type": "code",
   "execution_count": 133,
   "metadata": {},
   "outputs": [
    {
     "data": {
      "text/plain": [
       "(48, 8)"
      ]
     },
     "execution_count": 133,
     "metadata": {},
     "output_type": "execute_result"
    }
   ],
   "source": [
    "dfe.shape"
   ]
  },
  {
   "cell_type": "code",
   "execution_count": 134,
   "metadata": {},
   "outputs": [],
   "source": [
    "dfe.to_csv('droom_for_new_labels19.csv')"
   ]
  },
  {
   "cell_type": "code",
   "execution_count": null,
   "metadata": {},
   "outputs": [],
   "source": []
  },
  {
   "cell_type": "code",
   "execution_count": null,
   "metadata": {},
   "outputs": [],
   "source": []
  },
  {
   "cell_type": "code",
   "execution_count": 14,
   "metadata": {},
   "outputs": [],
   "source": [
    "x=np.matrix(zip(f1,f2,f3))\n",
    "kmeans = KMeans(n_clusters=2).fit(x)"
   ]
  },
  {
   "cell_type": "code",
   "execution_count": 15,
   "metadata": {},
   "outputs": [
    {
     "data": {
      "text/plain": [
       "array([0, 0, 0, ..., 0, 0, 0], dtype=int32)"
      ]
     },
     "execution_count": 15,
     "metadata": {},
     "output_type": "execute_result"
    }
   ],
   "source": [
    "kmeans.labels_"
   ]
  },
  {
   "cell_type": "code",
   "execution_count": null,
   "metadata": {},
   "outputs": [],
   "source": [
    "a"
   ]
  }
 ],
 "metadata": {
  "kernelspec": {
   "display_name": "Python 2",
   "language": "python",
   "name": "python2"
  },
  "language_info": {
   "codemirror_mode": {
    "name": "ipython",
    "version": 2
   },
   "file_extension": ".py",
   "mimetype": "text/x-python",
   "name": "python",
   "nbconvert_exporter": "python",
   "pygments_lexer": "ipython2",
   "version": "2.7.12"
  }
 },
 "nbformat": 4,
 "nbformat_minor": 2
}
