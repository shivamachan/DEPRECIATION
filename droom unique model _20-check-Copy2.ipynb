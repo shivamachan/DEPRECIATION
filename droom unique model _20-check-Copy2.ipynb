{
 "cells": [
  {
   "cell_type": "code",
   "execution_count": 56,
   "metadata": {},
   "outputs": [],
   "source": [
    "import pandas as pd\n",
    "import numpy as np\n",
    "from sklearn.model_selection import train_test_split\n",
    "from sklearn.model_selection import cross_val_score"
   ]
  },
  {
   "cell_type": "code",
   "execution_count": 57,
   "metadata": {},
   "outputs": [],
   "source": [
    "df=pd.read_csv('/home/shivam/Downloads/Droom model filtered.xlsx - Sheet1.csv')"
   ]
  },
  {
   "cell_type": "code",
   "execution_count": 58,
   "metadata": {},
   "outputs": [
    {
     "data": {
      "text/html": [
       "<div>\n",
       "<style scoped>\n",
       "    .dataframe tbody tr th:only-of-type {\n",
       "        vertical-align: middle;\n",
       "    }\n",
       "\n",
       "    .dataframe tbody tr th {\n",
       "        vertical-align: top;\n",
       "    }\n",
       "\n",
       "    .dataframe thead th {\n",
       "        text-align: right;\n",
       "    }\n",
       "</style>\n",
       "<table border=\"1\" class=\"dataframe\">\n",
       "  <thead>\n",
       "    <tr style=\"text-align: right;\">\n",
       "      <th></th>\n",
       "      <th>ID</th>\n",
       "      <th>Make</th>\n",
       "      <th>Model</th>\n",
       "      <th>Variant</th>\n",
       "      <th>Type</th>\n",
       "      <th>Fuel Type</th>\n",
       "      <th>Age</th>\n",
       "      <th>Transmission</th>\n",
       "      <th>Color</th>\n",
       "      <th>Kms</th>\n",
       "      <th>No of Owner</th>\n",
       "      <th>Droom Price</th>\n",
       "      <th>Heath score</th>\n",
       "      <th>price score</th>\n",
       "      <th>on road price</th>\n",
       "      <th>Droom Price rev %</th>\n",
       "      <th>Droom Price rev</th>\n",
       "      <th>Dep</th>\n",
       "    </tr>\n",
       "  </thead>\n",
       "  <tbody>\n",
       "    <tr>\n",
       "      <th>0</th>\n",
       "      <td>1</td>\n",
       "      <td>Hyundai</td>\n",
       "      <td>I10</td>\n",
       "      <td>Sportz 1.2</td>\n",
       "      <td>Hatchback</td>\n",
       "      <td>Petrol</td>\n",
       "      <td>3</td>\n",
       "      <td>Manual</td>\n",
       "      <td>White</td>\n",
       "      <td>12,000</td>\n",
       "      <td>1</td>\n",
       "      <td>380000</td>\n",
       "      <td>8.5</td>\n",
       "      <td>8.8</td>\n",
       "      <td>537850</td>\n",
       "      <td>11.0</td>\n",
       "      <td>338352</td>\n",
       "      <td>37.1</td>\n",
       "    </tr>\n",
       "    <tr>\n",
       "      <th>1</th>\n",
       "      <td>8</td>\n",
       "      <td>Hyundai</td>\n",
       "      <td>I10</td>\n",
       "      <td>Magna</td>\n",
       "      <td>Hatchback</td>\n",
       "      <td>Petrol + CNG</td>\n",
       "      <td>10</td>\n",
       "      <td>Manual</td>\n",
       "      <td>Red</td>\n",
       "      <td>55,000</td>\n",
       "      <td>2</td>\n",
       "      <td>185000</td>\n",
       "      <td>5.0</td>\n",
       "      <td>7.5</td>\n",
       "      <td>462988</td>\n",
       "      <td>12.0</td>\n",
       "      <td>162800</td>\n",
       "      <td>64.8</td>\n",
       "    </tr>\n",
       "  </tbody>\n",
       "</table>\n",
       "</div>"
      ],
      "text/plain": [
       "   ID     Make Model     Variant       Type     Fuel Type  Age Transmission  \\\n",
       "0   1  Hyundai   I10  Sportz 1.2  Hatchback        Petrol    3       Manual   \n",
       "1   8  Hyundai   I10       Magna  Hatchback  Petrol + CNG   10       Manual   \n",
       "\n",
       "   Color     Kms  No of Owner  Droom Price  Heath score  price score  \\\n",
       "0  White  12,000            1       380000          8.5          8.8   \n",
       "1    Red  55,000            2       185000          5.0          7.5   \n",
       "\n",
       "   on road price  Droom Price rev %  Droom Price rev   Dep  \n",
       "0         537850               11.0           338352  37.1  \n",
       "1         462988               12.0           162800  64.8  "
      ]
     },
     "execution_count": 58,
     "metadata": {},
     "output_type": "execute_result"
    }
   ],
   "source": [
    "df.head(2)"
   ]
  },
  {
   "cell_type": "code",
   "execution_count": 59,
   "metadata": {},
   "outputs": [
    {
     "data": {
      "text/plain": [
       "(1596, 18)"
      ]
     },
     "execution_count": 59,
     "metadata": {},
     "output_type": "execute_result"
    }
   ],
   "source": [
    "df.shape"
   ]
  },
  {
   "cell_type": "code",
   "execution_count": 61,
   "metadata": {},
   "outputs": [],
   "source": [
    "df.drop(['Droom Price','Droom Price rev %','Droom Price rev','ID'],axis=1,inplace=True)"
   ]
  },
  {
   "cell_type": "markdown",
   "metadata": {},
   "source": [
    "#df['Variant'].unique()"
   ]
  },
  {
   "cell_type": "code",
   "execution_count": 63,
   "metadata": {},
   "outputs": [
    {
     "data": {
      "text/html": [
       "<div>\n",
       "<style scoped>\n",
       "    .dataframe tbody tr th:only-of-type {\n",
       "        vertical-align: middle;\n",
       "    }\n",
       "\n",
       "    .dataframe tbody tr th {\n",
       "        vertical-align: top;\n",
       "    }\n",
       "\n",
       "    .dataframe thead th {\n",
       "        text-align: right;\n",
       "    }\n",
       "</style>\n",
       "<table border=\"1\" class=\"dataframe\">\n",
       "  <thead>\n",
       "    <tr style=\"text-align: right;\">\n",
       "      <th></th>\n",
       "      <th>Make</th>\n",
       "      <th>Model</th>\n",
       "      <th>Variant</th>\n",
       "      <th>Type</th>\n",
       "      <th>Fuel Type</th>\n",
       "      <th>Age</th>\n",
       "      <th>Transmission</th>\n",
       "      <th>Color</th>\n",
       "      <th>Kms</th>\n",
       "      <th>No of Owner</th>\n",
       "      <th>Heath score</th>\n",
       "      <th>price score</th>\n",
       "      <th>on road price</th>\n",
       "      <th>Dep</th>\n",
       "    </tr>\n",
       "  </thead>\n",
       "  <tbody>\n",
       "    <tr>\n",
       "      <th>0</th>\n",
       "      <td>Hyundai</td>\n",
       "      <td>I10</td>\n",
       "      <td>Sportz 1.2</td>\n",
       "      <td>Hatchback</td>\n",
       "      <td>Petrol</td>\n",
       "      <td>3</td>\n",
       "      <td>Manual</td>\n",
       "      <td>White</td>\n",
       "      <td>12,000</td>\n",
       "      <td>1</td>\n",
       "      <td>8.5</td>\n",
       "      <td>8.8</td>\n",
       "      <td>537850</td>\n",
       "      <td>37.1</td>\n",
       "    </tr>\n",
       "    <tr>\n",
       "      <th>1</th>\n",
       "      <td>Hyundai</td>\n",
       "      <td>I10</td>\n",
       "      <td>Magna</td>\n",
       "      <td>Hatchback</td>\n",
       "      <td>Petrol + CNG</td>\n",
       "      <td>10</td>\n",
       "      <td>Manual</td>\n",
       "      <td>Red</td>\n",
       "      <td>55,000</td>\n",
       "      <td>2</td>\n",
       "      <td>5.0</td>\n",
       "      <td>7.5</td>\n",
       "      <td>462988</td>\n",
       "      <td>64.8</td>\n",
       "    </tr>\n",
       "  </tbody>\n",
       "</table>\n",
       "</div>"
      ],
      "text/plain": [
       "      Make Model     Variant       Type     Fuel Type  Age Transmission  \\\n",
       "0  Hyundai   I10  Sportz 1.2  Hatchback        Petrol    3       Manual   \n",
       "1  Hyundai   I10       Magna  Hatchback  Petrol + CNG   10       Manual   \n",
       "\n",
       "   Color     Kms  No of Owner  Heath score  price score  on road price   Dep  \n",
       "0  White  12,000            1          8.5          8.8         537850  37.1  \n",
       "1    Red  55,000            2          5.0          7.5         462988  64.8  "
      ]
     },
     "execution_count": 63,
     "metadata": {},
     "output_type": "execute_result"
    }
   ],
   "source": [
    "df.head(2)"
   ]
  },
  {
   "cell_type": "code",
   "execution_count": 64,
   "metadata": {},
   "outputs": [
    {
     "data": {
      "text/plain": [
       "(1596, 14)"
      ]
     },
     "execution_count": 64,
     "metadata": {},
     "output_type": "execute_result"
    }
   ],
   "source": [
    "df.shape"
   ]
  },
  {
   "cell_type": "code",
   "execution_count": 65,
   "metadata": {},
   "outputs": [
    {
     "data": {
      "text/plain": [
       "34"
      ]
     },
     "execution_count": 65,
     "metadata": {},
     "output_type": "execute_result"
    }
   ],
   "source": [
    "len(df['Variant'].unique())"
   ]
  },
  {
   "cell_type": "code",
   "execution_count": 66,
   "metadata": {},
   "outputs": [],
   "source": [
    "M=df['Variant'].unique()\n",
    "N=df['Variant']"
   ]
  },
  {
   "cell_type": "code",
   "execution_count": 67,
   "metadata": {},
   "outputs": [
    {
     "name": "stderr",
     "output_type": "stream",
     "text": [
      "/usr/local/lib/python2.7/dist-packages/ipykernel_launcher.py:5: SettingWithCopyWarning: \n",
      "A value is trying to be set on a copy of a slice from a DataFrame\n",
      "\n",
      "See the caveats in the documentation: http://pandas.pydata.org/pandas-docs/stable/indexing.html#indexing-view-versus-copy\n",
      "  \"\"\"\n"
     ]
    }
   ],
   "source": [
    "n=0\n",
    "for i in range(34):\n",
    "    for j in range(1596):\n",
    "        if(M[i]==N[j]):\n",
    "            N[j]=n\n",
    "            \n",
    "    n=n+1"
   ]
  },
  {
   "cell_type": "code",
   "execution_count": 68,
   "metadata": {},
   "outputs": [],
   "source": [
    "df['Variant']=df['Variant'].astype(int)"
   ]
  },
  {
   "cell_type": "code",
   "execution_count": 70,
   "metadata": {},
   "outputs": [
    {
     "data": {
      "text/plain": [
       "dtype('int64')"
      ]
     },
     "execution_count": 70,
     "metadata": {},
     "output_type": "execute_result"
    }
   ],
   "source": [
    "df['Variant'].dtype"
   ]
  },
  {
   "cell_type": "code",
   "execution_count": 71,
   "metadata": {},
   "outputs": [
    {
     "data": {
      "text/plain": [
       "21"
      ]
     },
     "execution_count": 71,
     "metadata": {},
     "output_type": "execute_result"
    }
   ],
   "source": [
    "len(df['Model'].unique())"
   ]
  },
  {
   "cell_type": "code",
   "execution_count": 72,
   "metadata": {},
   "outputs": [],
   "source": [
    "O=df['Model'].unique()\n",
    "P=df['Model']"
   ]
  },
  {
   "cell_type": "code",
   "execution_count": 73,
   "metadata": {},
   "outputs": [
    {
     "name": "stderr",
     "output_type": "stream",
     "text": [
      "/usr/local/lib/python2.7/dist-packages/ipykernel_launcher.py:5: SettingWithCopyWarning: \n",
      "A value is trying to be set on a copy of a slice from a DataFrame\n",
      "\n",
      "See the caveats in the documentation: http://pandas.pydata.org/pandas-docs/stable/indexing.html#indexing-view-versus-copy\n",
      "  \"\"\"\n"
     ]
    }
   ],
   "source": [
    "m=0\n",
    "for i in range(21):\n",
    "    for j in range(1596):\n",
    "        if(O[i]==P[j]):\n",
    "            P[j]=m\n",
    "            \n",
    "    m=m+1"
   ]
  },
  {
   "cell_type": "code",
   "execution_count": 74,
   "metadata": {},
   "outputs": [],
   "source": [
    "df['Model']=df['Model'].astype(int)"
   ]
  },
  {
   "cell_type": "code",
   "execution_count": 76,
   "metadata": {},
   "outputs": [
    {
     "data": {
      "text/plain": [
       "dtype('int64')"
      ]
     },
     "execution_count": 76,
     "metadata": {},
     "output_type": "execute_result"
    }
   ],
   "source": [
    "df['Model'].dtype"
   ]
  },
  {
   "cell_type": "code",
   "execution_count": null,
   "metadata": {},
   "outputs": [],
   "source": []
  },
  {
   "cell_type": "code",
   "execution_count": 77,
   "metadata": {},
   "outputs": [
    {
     "data": {
      "text/html": [
       "<div>\n",
       "<style scoped>\n",
       "    .dataframe tbody tr th:only-of-type {\n",
       "        vertical-align: middle;\n",
       "    }\n",
       "\n",
       "    .dataframe tbody tr th {\n",
       "        vertical-align: top;\n",
       "    }\n",
       "\n",
       "    .dataframe thead th {\n",
       "        text-align: right;\n",
       "    }\n",
       "</style>\n",
       "<table border=\"1\" class=\"dataframe\">\n",
       "  <thead>\n",
       "    <tr style=\"text-align: right;\">\n",
       "      <th></th>\n",
       "      <th>Make</th>\n",
       "      <th>Model</th>\n",
       "      <th>Variant</th>\n",
       "      <th>Type</th>\n",
       "      <th>Fuel Type</th>\n",
       "      <th>Age</th>\n",
       "      <th>Transmission</th>\n",
       "      <th>Color</th>\n",
       "      <th>Kms</th>\n",
       "      <th>No of Owner</th>\n",
       "      <th>Heath score</th>\n",
       "      <th>price score</th>\n",
       "      <th>on road price</th>\n",
       "      <th>Dep</th>\n",
       "    </tr>\n",
       "  </thead>\n",
       "  <tbody>\n",
       "    <tr>\n",
       "      <th>0</th>\n",
       "      <td>Hyundai</td>\n",
       "      <td>0</td>\n",
       "      <td>0</td>\n",
       "      <td>Hatchback</td>\n",
       "      <td>Petrol</td>\n",
       "      <td>3</td>\n",
       "      <td>Manual</td>\n",
       "      <td>White</td>\n",
       "      <td>12,000</td>\n",
       "      <td>1</td>\n",
       "      <td>8.5</td>\n",
       "      <td>8.8</td>\n",
       "      <td>537850</td>\n",
       "      <td>37.1</td>\n",
       "    </tr>\n",
       "    <tr>\n",
       "      <th>1</th>\n",
       "      <td>Hyundai</td>\n",
       "      <td>0</td>\n",
       "      <td>1</td>\n",
       "      <td>Hatchback</td>\n",
       "      <td>Petrol + CNG</td>\n",
       "      <td>10</td>\n",
       "      <td>Manual</td>\n",
       "      <td>Red</td>\n",
       "      <td>55,000</td>\n",
       "      <td>2</td>\n",
       "      <td>5.0</td>\n",
       "      <td>7.5</td>\n",
       "      <td>462988</td>\n",
       "      <td>64.8</td>\n",
       "    </tr>\n",
       "  </tbody>\n",
       "</table>\n",
       "</div>"
      ],
      "text/plain": [
       "      Make  Model  Variant       Type     Fuel Type  Age Transmission  Color  \\\n",
       "0  Hyundai      0        0  Hatchback        Petrol    3       Manual  White   \n",
       "1  Hyundai      0        1  Hatchback  Petrol + CNG   10       Manual    Red   \n",
       "\n",
       "      Kms  No of Owner  Heath score  price score  on road price   Dep  \n",
       "0  12,000            1          8.5          8.8         537850  37.1  \n",
       "1  55,000            2          5.0          7.5         462988  64.8  "
      ]
     },
     "execution_count": 77,
     "metadata": {},
     "output_type": "execute_result"
    }
   ],
   "source": [
    "df.head(2)"
   ]
  },
  {
   "cell_type": "code",
   "execution_count": 78,
   "metadata": {},
   "outputs": [
    {
     "data": {
      "text/plain": [
       "Make              object\n",
       "Model              int64\n",
       "Variant            int64\n",
       "Type              object\n",
       "Fuel Type         object\n",
       "Age                int64\n",
       "Transmission      object\n",
       "Color             object\n",
       "Kms               object\n",
       "No of Owner        int64\n",
       "Heath score      float64\n",
       "price score      float64\n",
       "on road price      int64\n",
       "Dep              float64\n",
       "dtype: object"
      ]
     },
     "execution_count": 78,
     "metadata": {},
     "output_type": "execute_result"
    }
   ],
   "source": [
    "df.dtypes"
   ]
  },
  {
   "cell_type": "code",
   "execution_count": 79,
   "metadata": {},
   "outputs": [
    {
     "data": {
      "text/plain": [
       "array(['White', 'Red', 'Grey', 'Silver', 'Blue', 'Golden', 'other',\n",
       "       'Beige', 'bold beige metallic', 'Black', 'Brown', 'gold', 'Maroon',\n",
       "       'Bronze', 'Other', 'Purple', 'Yellow', 'silver',\n",
       "       'champagne and metallic', 'Chocolate Gold', 'Black, Maroon',\n",
       "       'Orange', 'Pink', 'Green'], dtype=object)"
      ]
     },
     "execution_count": 79,
     "metadata": {},
     "output_type": "execute_result"
    }
   ],
   "source": [
    "df['Color'].unique()"
   ]
  },
  {
   "cell_type": "code",
   "execution_count": 80,
   "metadata": {},
   "outputs": [],
   "source": [
    "df[\"Color\"] = df[\"Color\"].replace( ['White',], 'White')\n",
    "df[\"Color\"] = df[\"Color\"].replace(['Silver','silver'], 'Silver')                                "
   ]
  },
  {
   "cell_type": "code",
   "execution_count": 81,
   "metadata": {},
   "outputs": [],
   "source": [
    "df[\"Color\"] = df[\"Color\"].replace(['Brown','Bronze'], 'Brown')\n",
    "df[\"Color\"] = df[\"Color\"].replace(['Green'], 'Green' )                                 "
   ]
  },
  {
   "cell_type": "code",
   "execution_count": 82,
   "metadata": {},
   "outputs": [],
   "source": [
    "df[\"Color\"] = df[\"Color\"].replace(['Red','Orange', 'Pink','Maroon'], 'Red')\n",
    "df[\"Color\"] = df[\"Color\"].replace(['Grey','champagne and metallic'], 'Grey')                                 "
   ]
  },
  {
   "cell_type": "code",
   "execution_count": 83,
   "metadata": {},
   "outputs": [],
   "source": [
    "df[\"Color\"] = df[\"Color\"].replace(['Black','Black, Maroon'], 'Black')\n",
    "df[\"Color\"] = df[\"Color\"].replace(['Blue','Purple'], 'Blue')                                  "
   ]
  },
  {
   "cell_type": "code",
   "execution_count": 84,
   "metadata": {},
   "outputs": [],
   "source": [
    "df[\"Color\"] = df[\"Color\"].replace(['Golden','gold','Chocolate Gold'], 'Golden')\n",
    "df[\"Color\"] = df[\"Color\"].replace(['Beige','bold beige metallic'], 'Beige')\n",
    "df[\"Color\"] = df[\"Color\"].replace(['Yellow'], 'Yellow')\n",
    "df[\"Color\"] = df[\"Color\"].replace(['other','Other'], 'other')                                   "
   ]
  },
  {
   "cell_type": "code",
   "execution_count": 85,
   "metadata": {},
   "outputs": [
    {
     "data": {
      "text/plain": [
       "array(['White', 'Red', 'Grey', 'Silver', 'Blue', 'Golden', 'other',\n",
       "       'Beige', 'Black', 'Brown', 'Yellow', 'Green'], dtype=object)"
      ]
     },
     "execution_count": 85,
     "metadata": {},
     "output_type": "execute_result"
    }
   ],
   "source": [
    "df['Color'].unique()"
   ]
  },
  {
   "cell_type": "code",
   "execution_count": 86,
   "metadata": {},
   "outputs": [],
   "source": [
    "df['Color'] = df['Color'].map( {'Silver': 1,'White' : 0,'Red':2,'Golden':3,'Grey':4,'Blue':5,'Brown':6,'Green':7,'Beige':8,'other':9,'Black':10,'Yellow':11   } ).astype(int)"
   ]
  },
  {
   "cell_type": "code",
   "execution_count": 87,
   "metadata": {},
   "outputs": [
    {
     "data": {
      "text/plain": [
       "dtype('int64')"
      ]
     },
     "execution_count": 87,
     "metadata": {},
     "output_type": "execute_result"
    }
   ],
   "source": [
    "df['Color'].dtype"
   ]
  },
  {
   "cell_type": "code",
   "execution_count": 89,
   "metadata": {},
   "outputs": [
    {
     "data": {
      "text/plain": [
       "array(['Petrol', 'Petrol + CNG', 'Diesel', 'diesel', 'cng', 'CNG',\n",
       "       'Petrol + LPG'], dtype=object)"
      ]
     },
     "execution_count": 89,
     "metadata": {},
     "output_type": "execute_result"
    }
   ],
   "source": [
    "df['Fuel Type'].unique()"
   ]
  },
  {
   "cell_type": "code",
   "execution_count": 91,
   "metadata": {},
   "outputs": [],
   "source": [
    "df['Fuel Type'] = df['Fuel Type'].replace(['Petrol','Petrol + CNG','Petrol + LPG' ], 'Petrol')\n",
    "df['Fuel Type'] = df['Fuel Type'].replace([ 'Diesel', 'diesel'], 'Diesel')\n",
    "df['Fuel Type'] = df['Fuel Type'].replace(['LPG'], 'LPG')\n",
    "df['Fuel Type'] = df['Fuel Type'].replace(['cng', 'CNG' ], 'CNG')"
   ]
  },
  {
   "cell_type": "code",
   "execution_count": 92,
   "metadata": {},
   "outputs": [],
   "source": [
    "df['Fuel Type'] = df['Fuel Type'].map( {'Petrol': 1, 'Diesel': 0, 'CNG':2 ,'LPG':3} ).astype(int)"
   ]
  },
  {
   "cell_type": "code",
   "execution_count": 93,
   "metadata": {},
   "outputs": [
    {
     "data": {
      "text/plain": [
       "dtype('int64')"
      ]
     },
     "execution_count": 93,
     "metadata": {},
     "output_type": "execute_result"
    }
   ],
   "source": [
    "df['Fuel Type'].dtype"
   ]
  },
  {
   "cell_type": "code",
   "execution_count": 95,
   "metadata": {},
   "outputs": [
    {
     "data": {
      "text/plain": [
       "'55,000'"
      ]
     },
     "execution_count": 95,
     "metadata": {},
     "output_type": "execute_result"
    }
   ],
   "source": [
    "df['Kms'][1]"
   ]
  },
  {
   "cell_type": "code",
   "execution_count": 97,
   "metadata": {},
   "outputs": [
    {
     "name": "stderr",
     "output_type": "stream",
     "text": [
      "/usr/local/lib/python2.7/dist-packages/ipykernel_launcher.py:2: SettingWithCopyWarning: \n",
      "A value is trying to be set on a copy of a slice from a DataFrame\n",
      "\n",
      "See the caveats in the documentation: http://pandas.pydata.org/pandas-docs/stable/indexing.html#indexing-view-versus-copy\n",
      "  \n"
     ]
    }
   ],
   "source": [
    "for i in range(1596):\n",
    "    df['Kms'][i]=df['Kms'][i].replace(',','') "
   ]
  },
  {
   "cell_type": "code",
   "execution_count": 98,
   "metadata": {},
   "outputs": [
    {
     "data": {
      "text/plain": [
       "'38500'"
      ]
     },
     "execution_count": 98,
     "metadata": {},
     "output_type": "execute_result"
    }
   ],
   "source": [
    "df['Kms'][275]"
   ]
  },
  {
   "cell_type": "code",
   "execution_count": 99,
   "metadata": {},
   "outputs": [
    {
     "name": "stderr",
     "output_type": "stream",
     "text": [
      "/usr/local/lib/python2.7/dist-packages/ipykernel_launcher.py:2: SettingWithCopyWarning: \n",
      "A value is trying to be set on a copy of a slice from a DataFrame\n",
      "\n",
      "See the caveats in the documentation: http://pandas.pydata.org/pandas-docs/stable/indexing.html#indexing-view-versus-copy\n",
      "  \n"
     ]
    }
   ],
   "source": [
    "for i in range(1596):\n",
    "    df['Kms'][i]=float(df['Kms'][i])"
   ]
  },
  {
   "cell_type": "code",
   "execution_count": 100,
   "metadata": {},
   "outputs": [],
   "source": [
    "df['Kms'] = df['Kms'].astype(float)"
   ]
  },
  {
   "cell_type": "code",
   "execution_count": 102,
   "metadata": {},
   "outputs": [
    {
     "data": {
      "text/plain": [
       "dtype('float64')"
      ]
     },
     "execution_count": 102,
     "metadata": {},
     "output_type": "execute_result"
    }
   ],
   "source": [
    "df['Kms'].dtype"
   ]
  },
  {
   "cell_type": "code",
   "execution_count": 103,
   "metadata": {},
   "outputs": [
    {
     "data": {
      "text/plain": [
       "array(['Hyundai', 'Honda', 'Maruti Suzuki', 'Toyota'], dtype=object)"
      ]
     },
     "execution_count": 103,
     "metadata": {},
     "output_type": "execute_result"
    }
   ],
   "source": [
    "df['Make'].unique()"
   ]
  },
  {
   "cell_type": "code",
   "execution_count": 104,
   "metadata": {},
   "outputs": [],
   "source": [
    "df['Make'] = df['Make'].map( {'Hyundai': 1,'Honda' : 0, 'Maruti Suzuki':2,'Toyota':3 } ).astype(int)"
   ]
  },
  {
   "cell_type": "code",
   "execution_count": 105,
   "metadata": {},
   "outputs": [
    {
     "data": {
      "text/plain": [
       "dtype('int64')"
      ]
     },
     "execution_count": 105,
     "metadata": {},
     "output_type": "execute_result"
    }
   ],
   "source": [
    "df['Make'].dtype"
   ]
  },
  {
   "cell_type": "markdown",
   "metadata": {},
   "source": [
    "df['Model'].unique()"
   ]
  },
  {
   "cell_type": "markdown",
   "metadata": {},
   "source": [
    "'I10':1, 'I20':0, 'Verna':2, 'City':3, 'Civic':4, 'City Zx':5, 'Accord':6,'Brio':7, 'Sx4':8, 'Alto':9, 'Corolla Altis':10, 'Innova':11, 'Swift Dzire':12,'Swift':13, 'Wagon R 1.0':14, 'Wagon R':15, 'Santro Xing':16, 'Eeco':17, 'Ritz':18,'Estilo':19, 'Ertiga':20"
   ]
  },
  {
   "cell_type": "markdown",
   "metadata": {},
   "source": [
    "df['Model']=df['Model'].map({'I10':1, 'I20':0, 'Verna':2, 'City':3, 'Civic':4, 'City Zx':5, 'Accord':6,'Brio':7, 'Sx4':8, 'Alto':9, 'Corolla Altis':10, 'Innova':11, 'Swift Dzire':12,'Swift':13, 'Wagon R 1.0':14, 'Wagon R':15, 'Santro Xing':16, 'Eeco':17, 'Ritz':18,'Estilo':19, 'Ertiga':20}).astype(int)"
   ]
  },
  {
   "cell_type": "code",
   "execution_count": 38,
   "metadata": {},
   "outputs": [
    {
     "data": {
      "text/plain": [
       "dtype('int64')"
      ]
     },
     "execution_count": 38,
     "metadata": {},
     "output_type": "execute_result"
    }
   ],
   "source": [
    "df['Model'].dtype"
   ]
  },
  {
   "cell_type": "code",
   "execution_count": 106,
   "metadata": {},
   "outputs": [
    {
     "data": {
      "text/plain": [
       "array(['Hatchback', 'Sedan', 'MUV', 'Van'], dtype=object)"
      ]
     },
     "execution_count": 106,
     "metadata": {},
     "output_type": "execute_result"
    }
   ],
   "source": [
    "df['Type'].unique()"
   ]
  },
  {
   "cell_type": "code",
   "execution_count": 107,
   "metadata": {},
   "outputs": [],
   "source": [
    "df['Type']=df['Type'].map({'Hatchback':1, 'Sedan':0, 'MUV':2, 'Van':3, 'SUV':4, 'Crossover':5}).astype(int)"
   ]
  },
  {
   "cell_type": "code",
   "execution_count": 108,
   "metadata": {},
   "outputs": [
    {
     "data": {
      "text/plain": [
       "dtype('int64')"
      ]
     },
     "execution_count": 108,
     "metadata": {},
     "output_type": "execute_result"
    }
   ],
   "source": [
    "df['Type'].dtype"
   ]
  },
  {
   "cell_type": "code",
   "execution_count": 109,
   "metadata": {},
   "outputs": [
    {
     "data": {
      "text/plain": [
       "array(['Manual', 'Automatic'], dtype=object)"
      ]
     },
     "execution_count": 109,
     "metadata": {},
     "output_type": "execute_result"
    }
   ],
   "source": [
    "df['Transmission'].unique()"
   ]
  },
  {
   "cell_type": "code",
   "execution_count": 110,
   "metadata": {},
   "outputs": [],
   "source": [
    "df['Transmission']=df['Transmission'].map({'Manual':1, 'Automatic':0,'Automated Manual Transmission':2 }).astype(int)"
   ]
  },
  {
   "cell_type": "code",
   "execution_count": 111,
   "metadata": {},
   "outputs": [
    {
     "data": {
      "text/plain": [
       "dtype('int64')"
      ]
     },
     "execution_count": 111,
     "metadata": {},
     "output_type": "execute_result"
    }
   ],
   "source": [
    "df['Transmission'].dtype"
   ]
  },
  {
   "cell_type": "code",
   "execution_count": 112,
   "metadata": {},
   "outputs": [
    {
     "data": {
      "text/plain": [
       "Make               int64\n",
       "Model              int64\n",
       "Variant            int64\n",
       "Type               int64\n",
       "Fuel Type          int64\n",
       "Age                int64\n",
       "Transmission       int64\n",
       "Color              int64\n",
       "Kms              float64\n",
       "No of Owner        int64\n",
       "Heath score      float64\n",
       "price score      float64\n",
       "on road price      int64\n",
       "Dep              float64\n",
       "dtype: object"
      ]
     },
     "execution_count": 112,
     "metadata": {},
     "output_type": "execute_result"
    }
   ],
   "source": [
    "df.dtypes"
   ]
  },
  {
   "cell_type": "code",
   "execution_count": 113,
   "metadata": {},
   "outputs": [
    {
     "data": {
      "text/html": [
       "<div>\n",
       "<style scoped>\n",
       "    .dataframe tbody tr th:only-of-type {\n",
       "        vertical-align: middle;\n",
       "    }\n",
       "\n",
       "    .dataframe tbody tr th {\n",
       "        vertical-align: top;\n",
       "    }\n",
       "\n",
       "    .dataframe thead th {\n",
       "        text-align: right;\n",
       "    }\n",
       "</style>\n",
       "<table border=\"1\" class=\"dataframe\">\n",
       "  <thead>\n",
       "    <tr style=\"text-align: right;\">\n",
       "      <th></th>\n",
       "      <th>Make</th>\n",
       "      <th>Model</th>\n",
       "      <th>Variant</th>\n",
       "      <th>Type</th>\n",
       "      <th>Fuel Type</th>\n",
       "      <th>Age</th>\n",
       "      <th>Transmission</th>\n",
       "      <th>Color</th>\n",
       "      <th>Kms</th>\n",
       "      <th>No of Owner</th>\n",
       "      <th>Heath score</th>\n",
       "      <th>price score</th>\n",
       "      <th>on road price</th>\n",
       "      <th>Dep</th>\n",
       "    </tr>\n",
       "  </thead>\n",
       "  <tbody>\n",
       "    <tr>\n",
       "      <th>0</th>\n",
       "      <td>1</td>\n",
       "      <td>0</td>\n",
       "      <td>0</td>\n",
       "      <td>1</td>\n",
       "      <td>1</td>\n",
       "      <td>3</td>\n",
       "      <td>1</td>\n",
       "      <td>0</td>\n",
       "      <td>12000.0</td>\n",
       "      <td>1</td>\n",
       "      <td>8.5</td>\n",
       "      <td>8.8</td>\n",
       "      <td>537850</td>\n",
       "      <td>37.1</td>\n",
       "    </tr>\n",
       "    <tr>\n",
       "      <th>1</th>\n",
       "      <td>1</td>\n",
       "      <td>0</td>\n",
       "      <td>1</td>\n",
       "      <td>1</td>\n",
       "      <td>1</td>\n",
       "      <td>10</td>\n",
       "      <td>1</td>\n",
       "      <td>2</td>\n",
       "      <td>55000.0</td>\n",
       "      <td>2</td>\n",
       "      <td>5.0</td>\n",
       "      <td>7.5</td>\n",
       "      <td>462988</td>\n",
       "      <td>64.8</td>\n",
       "    </tr>\n",
       "  </tbody>\n",
       "</table>\n",
       "</div>"
      ],
      "text/plain": [
       "   Make  Model  Variant  Type  Fuel Type  Age  Transmission  Color      Kms  \\\n",
       "0     1      0        0     1          1    3             1      0  12000.0   \n",
       "1     1      0        1     1          1   10             1      2  55000.0   \n",
       "\n",
       "   No of Owner  Heath score  price score  on road price   Dep  \n",
       "0            1          8.5          8.8         537850  37.1  \n",
       "1            2          5.0          7.5         462988  64.8  "
      ]
     },
     "execution_count": 113,
     "metadata": {},
     "output_type": "execute_result"
    }
   ],
   "source": [
    "df.head(2)"
   ]
  },
  {
   "cell_type": "code",
   "execution_count": 114,
   "metadata": {},
   "outputs": [],
   "source": [
    "df.to_csv('droom_new_annotated.csv')"
   ]
  },
  {
   "cell_type": "code",
   "execution_count": null,
   "metadata": {},
   "outputs": [],
   "source": []
  },
  {
   "cell_type": "code",
   "execution_count": null,
   "metadata": {},
   "outputs": [],
   "source": []
  },
  {
   "cell_type": "code",
   "execution_count": 15,
   "metadata": {},
   "outputs": [],
   "source": [
    "Silver=1\n",
    "White=0\n",
    "Red=2\n",
    "Golden=3\n",
    "Grey=4\n",
    "Blue=5\n",
    "Brown=6\n",
    "Green=7\n",
    "Beige=8\n",
    "other=9\n",
    "Black=10\n",
    "Yellow=11"
   ]
  },
  {
   "cell_type": "code",
   "execution_count": 16,
   "metadata": {},
   "outputs": [],
   "source": [
    "Petrol=1\n",
    "Diesel=0\n",
    "CNG=2\n",
    "LPG=3"
   ]
  },
  {
   "cell_type": "code",
   "execution_count": 17,
   "metadata": {},
   "outputs": [],
   "source": [
    "Hyundai=1\n",
    "Honda=0\n",
    "Maruti_Suzuki=2\n",
    "Toyota=3"
   ]
  },
  {
   "cell_type": "code",
   "execution_count": 18,
   "metadata": {},
   "outputs": [],
   "source": [
    "Accord=6\n",
    "Alto=9\n",
    "Brio=7\n",
    "I10=1\n",
    "I20=0\n",
    "City=3\n",
    "Civic=4\n",
    "City_Zx=5\n",
    "Corolla_Altis=10\n",
    "Eeco=17\n",
    "Estilo=19\n",
    "Ertiga=20\n",
    "Innova=11\n",
    "Ritz=18\n",
    "Swift_Dzire=12\n",
    "Swift=13\n",
    "Santro_Xing=16\n",
    "Sx4=8\n",
    "Verna=2\n",
    "Wagon_R_10=14\n",
    "Wagon_R=15"
   ]
  },
  {
   "cell_type": "code",
   "execution_count": 19,
   "metadata": {},
   "outputs": [],
   "source": [
    "Manual=1\n",
    "Automatic=0"
   ]
  },
  {
   "cell_type": "code",
   "execution_count": 20,
   "metadata": {},
   "outputs": [],
   "source": [
    "Hatchback=1\n",
    "Sedan=0\n",
    "MUV=2\n",
    "Van=3\n",
    "SUV=4"
   ]
  },
  {
   "cell_type": "code",
   "execution_count": 21,
   "metadata": {},
   "outputs": [],
   "source": [
    "Sportz_12=0\n",
    "Magna=1\n",
    "Era=2\n",
    "Magna_12=3\n",
    "Fluidic_16_CRDi_SX=4\n",
    "Asta_12=5\n",
    "Sportz_12_AT=6\n",
    "_15_S_MT=7\n",
    "_18S_MT=8\n",
    "_18V_AT=9\n",
    "_15_V_AT=10\n",
    "_15_V_MT=11\n",
    "GXi=12\n",
    "_24_AT=13\n",
    "S_MT=14\n",
    "VXi=15\n",
    "LXI=16\n",
    "_18_G=17\n",
    "_25G=18\n",
    "_25_V_7_STR=19\n",
    "VDi=20\n",
    "LXi_CNG=21\n",
    "ZXi=22\n",
    "EXi=23\n",
    "LDi=24\n",
    "Vxi13=25\n",
    "VXI=26\n",
    "GLS=27\n",
    "LxiCng=28\n",
    "_7_STR=29\n",
    "_18V_MT=30\n",
    "Vdi_BS_IV=31\n",
    "LXi=32\n",
    "ZDi=33"
   ]
  },
  {
   "cell_type": "code",
   "execution_count": null,
   "metadata": {},
   "outputs": [],
   "source": []
  },
  {
   "cell_type": "code",
   "execution_count": 31,
   "metadata": {},
   "outputs": [
    {
     "name": "stderr",
     "output_type": "stream",
     "text": [
      "/usr/local/lib/python2.7/dist-packages/ipykernel_launcher.py:1: SettingWithCopyWarning: \n",
      "A value is trying to be set on a copy of a slice from a DataFrame\n",
      "\n",
      "See the caveats in the documentation: http://pandas.pydata.org/pandas-docs/stable/indexing.html#indexing-view-versus-copy\n",
      "  \"\"\"Entry point for launching an IPython kernel.\n",
      "/usr/local/lib/python2.7/dist-packages/ipykernel_launcher.py:2: SettingWithCopyWarning: \n",
      "A value is trying to be set on a copy of a slice from a DataFrame\n",
      "\n",
      "See the caveats in the documentation: http://pandas.pydata.org/pandas-docs/stable/indexing.html#indexing-view-versus-copy\n",
      "  \n",
      "/usr/local/lib/python2.7/dist-packages/ipykernel_launcher.py:3: SettingWithCopyWarning: \n",
      "A value is trying to be set on a copy of a slice from a DataFrame\n",
      "\n",
      "See the caveats in the documentation: http://pandas.pydata.org/pandas-docs/stable/indexing.html#indexing-view-versus-copy\n",
      "  This is separate from the ipykernel package so we can avoid doing imports until\n",
      "/usr/local/lib/python2.7/dist-packages/ipykernel_launcher.py:4: SettingWithCopyWarning: \n",
      "A value is trying to be set on a copy of a slice from a DataFrame\n",
      "\n",
      "See the caveats in the documentation: http://pandas.pydata.org/pandas-docs/stable/indexing.html#indexing-view-versus-copy\n",
      "  after removing the cwd from sys.path.\n",
      "/usr/local/lib/python2.7/dist-packages/ipykernel_launcher.py:5: SettingWithCopyWarning: \n",
      "A value is trying to be set on a copy of a slice from a DataFrame\n",
      "\n",
      "See the caveats in the documentation: http://pandas.pydata.org/pandas-docs/stable/indexing.html#indexing-view-versus-copy\n",
      "  \"\"\"\n",
      "/usr/local/lib/python2.7/dist-packages/ipykernel_launcher.py:6: SettingWithCopyWarning: \n",
      "A value is trying to be set on a copy of a slice from a DataFrame\n",
      "\n",
      "See the caveats in the documentation: http://pandas.pydata.org/pandas-docs/stable/indexing.html#indexing-view-versus-copy\n",
      "  \n",
      "/usr/local/lib/python2.7/dist-packages/ipykernel_launcher.py:7: SettingWithCopyWarning: \n",
      "A value is trying to be set on a copy of a slice from a DataFrame\n",
      "\n",
      "See the caveats in the documentation: http://pandas.pydata.org/pandas-docs/stable/indexing.html#indexing-view-versus-copy\n",
      "  import sys\n",
      "/usr/local/lib/python2.7/dist-packages/ipykernel_launcher.py:8: SettingWithCopyWarning: \n",
      "A value is trying to be set on a copy of a slice from a DataFrame\n",
      "\n",
      "See the caveats in the documentation: http://pandas.pydata.org/pandas-docs/stable/indexing.html#indexing-view-versus-copy\n",
      "  \n",
      "/usr/local/lib/python2.7/dist-packages/ipykernel_launcher.py:9: SettingWithCopyWarning: \n",
      "A value is trying to be set on a copy of a slice from a DataFrame\n",
      "\n",
      "See the caveats in the documentation: http://pandas.pydata.org/pandas-docs/stable/indexing.html#indexing-view-versus-copy\n",
      "  if __name__ == '__main__':\n",
      "/usr/local/lib/python2.7/dist-packages/ipykernel_launcher.py:10: SettingWithCopyWarning: \n",
      "A value is trying to be set on a copy of a slice from a DataFrame\n",
      "\n",
      "See the caveats in the documentation: http://pandas.pydata.org/pandas-docs/stable/indexing.html#indexing-view-versus-copy\n",
      "  # Remove the CWD from sys.path while we load stuff.\n",
      "/usr/local/lib/python2.7/dist-packages/ipykernel_launcher.py:11: SettingWithCopyWarning: \n",
      "A value is trying to be set on a copy of a slice from a DataFrame\n",
      "\n",
      "See the caveats in the documentation: http://pandas.pydata.org/pandas-docs/stable/indexing.html#indexing-view-versus-copy\n",
      "  # This is added back by InteractiveShellApp.init_path()\n",
      "/usr/local/lib/python2.7/dist-packages/ipykernel_launcher.py:12: SettingWithCopyWarning: \n",
      "A value is trying to be set on a copy of a slice from a DataFrame\n",
      "\n",
      "See the caveats in the documentation: http://pandas.pydata.org/pandas-docs/stable/indexing.html#indexing-view-versus-copy\n",
      "  if sys.path[0] == '':\n",
      "/usr/local/lib/python2.7/dist-packages/ipykernel_launcher.py:13: SettingWithCopyWarning: \n",
      "A value is trying to be set on a copy of a slice from a DataFrame\n",
      "\n",
      "See the caveats in the documentation: http://pandas.pydata.org/pandas-docs/stable/indexing.html#indexing-view-versus-copy\n",
      "  del sys.path[0]\n",
      "/usr/local/lib/python2.7/dist-packages/ipykernel_launcher.py:14: SettingWithCopyWarning: \n",
      "A value is trying to be set on a copy of a slice from a DataFrame\n",
      "\n",
      "See the caveats in the documentation: http://pandas.pydata.org/pandas-docs/stable/indexing.html#indexing-view-versus-copy\n",
      "  \n"
     ]
    }
   ],
   "source": [
    "df['Age'][0]=2\n",
    "df['Color'][0]=Red\n",
    "df['Heath_score'][0]=8.4\n",
    "df['Kms_run'][0]=4500\n",
    "df['Make'][0]=Maruti_Suzuki\n",
    "df['Model'][0]=Alto\n",
    "df['Variant'][0]=VXI\n",
    "df['Transmission'][0]=Manual\n",
    "df['Fuel_type'][0]=Petrol\n",
    "df['Type'][0]=Hatchback\n",
    "#df['droom_price_rev'][0]=250000\n",
    "df['on_road_price'][0]=360885\n",
    "df['owners'][0]=1\n",
    "df['price_score'][0]=8.1"
   ]
  },
  {
   "cell_type": "code",
   "execution_count": 38,
   "metadata": {},
   "outputs": [
    {
     "data": {
      "text/html": [
       "<div>\n",
       "<style scoped>\n",
       "    .dataframe tbody tr th:only-of-type {\n",
       "        vertical-align: middle;\n",
       "    }\n",
       "\n",
       "    .dataframe tbody tr th {\n",
       "        vertical-align: top;\n",
       "    }\n",
       "\n",
       "    .dataframe thead th {\n",
       "        text-align: right;\n",
       "    }\n",
       "</style>\n",
       "<table border=\"1\" class=\"dataframe\">\n",
       "  <thead>\n",
       "    <tr style=\"text-align: right;\">\n",
       "      <th></th>\n",
       "      <th>Age</th>\n",
       "      <th>Color</th>\n",
       "      <th>Dep</th>\n",
       "      <th>Fuel_type</th>\n",
       "      <th>Heath_score</th>\n",
       "      <th>Kms_run</th>\n",
       "      <th>Make</th>\n",
       "      <th>Model</th>\n",
       "      <th>Transmission</th>\n",
       "      <th>Type</th>\n",
       "      <th>Variant</th>\n",
       "      <th>droom_price_rev</th>\n",
       "      <th>on_road_price</th>\n",
       "      <th>owners</th>\n",
       "      <th>price_score</th>\n",
       "    </tr>\n",
       "  </thead>\n",
       "  <tbody>\n",
       "    <tr>\n",
       "      <th>0</th>\n",
       "      <td>2</td>\n",
       "      <td>2</td>\n",
       "      <td>37.1</td>\n",
       "      <td>1</td>\n",
       "      <td>8.4</td>\n",
       "      <td>4500</td>\n",
       "      <td>2</td>\n",
       "      <td>9</td>\n",
       "      <td>1</td>\n",
       "      <td>1</td>\n",
       "      <td>26</td>\n",
       "      <td>242708</td>\n",
       "      <td>360885</td>\n",
       "      <td>1</td>\n",
       "      <td>8.1</td>\n",
       "    </tr>\n",
       "    <tr>\n",
       "      <th>1</th>\n",
       "      <td>10</td>\n",
       "      <td>Red</td>\n",
       "      <td>64.8</td>\n",
       "      <td>Petrol + CNG</td>\n",
       "      <td>5.0</td>\n",
       "      <td>55,000</td>\n",
       "      <td>Hyundai</td>\n",
       "      <td>I10</td>\n",
       "      <td>Manual</td>\n",
       "      <td>Hatchback</td>\n",
       "      <td>Magna</td>\n",
       "      <td>162800</td>\n",
       "      <td>462988</td>\n",
       "      <td>2</td>\n",
       "      <td>7.5</td>\n",
       "    </tr>\n",
       "  </tbody>\n",
       "</table>\n",
       "</div>"
      ],
      "text/plain": [
       "   Age Color   Dep     Fuel_type  Heath_score Kms_run     Make Model  \\\n",
       "0    2     2  37.1             1          8.4    4500        2     9   \n",
       "1   10   Red  64.8  Petrol + CNG          5.0  55,000  Hyundai   I10   \n",
       "\n",
       "  Transmission       Type Variant  droom_price_rev  on_road_price  owners  \\\n",
       "0            1          1      26           242708         360885       1   \n",
       "1       Manual  Hatchback   Magna           162800         462988       2   \n",
       "\n",
       "   price_score  \n",
       "0          8.1  \n",
       "1          7.5  "
      ]
     },
     "execution_count": 38,
     "metadata": {},
     "output_type": "execute_result"
    }
   ],
   "source": [
    "df.head(2)"
   ]
  },
  {
   "cell_type": "code",
   "execution_count": null,
   "metadata": {},
   "outputs": [],
   "source": []
  },
  {
   "cell_type": "code",
   "execution_count": 24,
   "metadata": {},
   "outputs": [],
   "source": [
    "df.drop(['Unnamed: 0','ID', 'outlier'], axis=1, inplace=True)"
   ]
  },
  {
   "cell_type": "code",
   "execution_count": 25,
   "metadata": {},
   "outputs": [
    {
     "data": {
      "text/html": [
       "<div>\n",
       "<style scoped>\n",
       "    .dataframe tbody tr th:only-of-type {\n",
       "        vertical-align: middle;\n",
       "    }\n",
       "\n",
       "    .dataframe tbody tr th {\n",
       "        vertical-align: top;\n",
       "    }\n",
       "\n",
       "    .dataframe thead th {\n",
       "        text-align: right;\n",
       "    }\n",
       "</style>\n",
       "<table border=\"1\" class=\"dataframe\">\n",
       "  <thead>\n",
       "    <tr style=\"text-align: right;\">\n",
       "      <th></th>\n",
       "      <th>Age</th>\n",
       "      <th>Color</th>\n",
       "      <th>Dep</th>\n",
       "      <th>Fuel_type</th>\n",
       "      <th>Heath_score</th>\n",
       "      <th>Kms_run</th>\n",
       "      <th>Make</th>\n",
       "      <th>Model</th>\n",
       "      <th>Transmission</th>\n",
       "      <th>Type</th>\n",
       "      <th>Variant</th>\n",
       "      <th>droom_price_rev</th>\n",
       "      <th>on_road_price</th>\n",
       "      <th>owners</th>\n",
       "      <th>price_score</th>\n",
       "    </tr>\n",
       "  </thead>\n",
       "  <tbody>\n",
       "    <tr>\n",
       "      <th>0</th>\n",
       "      <td>2</td>\n",
       "      <td>2</td>\n",
       "      <td>37.1</td>\n",
       "      <td>1</td>\n",
       "      <td>8.4</td>\n",
       "      <td>4500</td>\n",
       "      <td>2</td>\n",
       "      <td>9</td>\n",
       "      <td>1</td>\n",
       "      <td>1</td>\n",
       "      <td>26</td>\n",
       "      <td>250000</td>\n",
       "      <td>340964</td>\n",
       "      <td>1</td>\n",
       "      <td>8.1</td>\n",
       "    </tr>\n",
       "    <tr>\n",
       "      <th>1</th>\n",
       "      <td>10</td>\n",
       "      <td>Red</td>\n",
       "      <td>64.8</td>\n",
       "      <td>Petrol + CNG</td>\n",
       "      <td>5.0</td>\n",
       "      <td>55,000</td>\n",
       "      <td>Hyundai</td>\n",
       "      <td>I10</td>\n",
       "      <td>Manual</td>\n",
       "      <td>Hatchback</td>\n",
       "      <td>Magna</td>\n",
       "      <td>162800</td>\n",
       "      <td>462988</td>\n",
       "      <td>2</td>\n",
       "      <td>7.5</td>\n",
       "    </tr>\n",
       "  </tbody>\n",
       "</table>\n",
       "</div>"
      ],
      "text/plain": [
       "   Age Color   Dep     Fuel_type  Heath_score Kms_run     Make Model  \\\n",
       "0    2     2  37.1             1          8.4    4500        2     9   \n",
       "1   10   Red  64.8  Petrol + CNG          5.0  55,000  Hyundai   I10   \n",
       "\n",
       "  Transmission       Type Variant  droom_price_rev  on_road_price  owners  \\\n",
       "0            1          1      26           250000         340964       1   \n",
       "1       Manual  Hatchback   Magna           162800         462988       2   \n",
       "\n",
       "   price_score  \n",
       "0          8.1  \n",
       "1          7.5  "
      ]
     },
     "execution_count": 25,
     "metadata": {},
     "output_type": "execute_result"
    }
   ],
   "source": [
    "df.head(2)"
   ]
  },
  {
   "cell_type": "code",
   "execution_count": null,
   "metadata": {},
   "outputs": [],
   "source": []
  },
  {
   "cell_type": "code",
   "execution_count": 39,
   "metadata": {},
   "outputs": [],
   "source": [
    "x_pred = df.head(1).drop('Dep', axis=1)"
   ]
  },
  {
   "cell_type": "code",
   "execution_count": 40,
   "metadata": {},
   "outputs": [],
   "source": [
    "predicted_value = model2.predict(x_pred)"
   ]
  },
  {
   "cell_type": "code",
   "execution_count": 41,
   "metadata": {},
   "outputs": [
    {
     "data": {
      "text/plain": [
       "array([32.7541332])"
      ]
     },
     "execution_count": 41,
     "metadata": {},
     "output_type": "execute_result"
    }
   ],
   "source": [
    "predicted_value"
   ]
  },
  {
   "cell_type": "code",
   "execution_count": 42,
   "metadata": {},
   "outputs": [
    {
     "name": "stderr",
     "output_type": "stream",
     "text": [
      "/usr/local/lib/python2.7/dist-packages/ipykernel_launcher.py:1: SettingWithCopyWarning: \n",
      "A value is trying to be set on a copy of a slice from a DataFrame\n",
      "\n",
      "See the caveats in the documentation: http://pandas.pydata.org/pandas-docs/stable/indexing.html#indexing-view-versus-copy\n",
      "  \"\"\"Entry point for launching an IPython kernel.\n"
     ]
    }
   ],
   "source": [
    "df['droom_price_rev'][0]=(360885-(360885/100)*predicted_value)"
   ]
  },
  {
   "cell_type": "code",
   "execution_count": 43,
   "metadata": {},
   "outputs": [
    {
     "data": {
      "text/plain": [
       "242708"
      ]
     },
     "execution_count": 43,
     "metadata": {},
     "output_type": "execute_result"
    }
   ],
   "source": [
    "df['droom_price_rev'][0]"
   ]
  },
  {
   "cell_type": "code",
   "execution_count": null,
   "metadata": {},
   "outputs": [],
   "source": []
  },
  {
   "cell_type": "code",
   "execution_count": null,
   "metadata": {},
   "outputs": [],
   "source": []
  },
  {
   "cell_type": "code",
   "execution_count": 54,
   "metadata": {},
   "outputs": [],
   "source": [
    "df.to_csv('droom_unique_annotated_rev.csv')"
   ]
  },
  {
   "cell_type": "code",
   "execution_count": 3,
   "metadata": {},
   "outputs": [],
   "source": [
    "df1=pd.read_csv('droom_unique_annotated_rev.csv')"
   ]
  },
  {
   "cell_type": "code",
   "execution_count": 115,
   "metadata": {},
   "outputs": [
    {
     "data": {
      "text/html": [
       "<div>\n",
       "<style scoped>\n",
       "    .dataframe tbody tr th:only-of-type {\n",
       "        vertical-align: middle;\n",
       "    }\n",
       "\n",
       "    .dataframe tbody tr th {\n",
       "        vertical-align: top;\n",
       "    }\n",
       "\n",
       "    .dataframe thead th {\n",
       "        text-align: right;\n",
       "    }\n",
       "</style>\n",
       "<table border=\"1\" class=\"dataframe\">\n",
       "  <thead>\n",
       "    <tr style=\"text-align: right;\">\n",
       "      <th></th>\n",
       "      <th>Make</th>\n",
       "      <th>Model</th>\n",
       "      <th>Variant</th>\n",
       "      <th>Type</th>\n",
       "      <th>Fuel Type</th>\n",
       "      <th>Age</th>\n",
       "      <th>Transmission</th>\n",
       "      <th>Color</th>\n",
       "      <th>Kms</th>\n",
       "      <th>No of Owner</th>\n",
       "      <th>Heath score</th>\n",
       "      <th>price score</th>\n",
       "      <th>on road price</th>\n",
       "      <th>Dep</th>\n",
       "    </tr>\n",
       "  </thead>\n",
       "  <tbody>\n",
       "    <tr>\n",
       "      <th>0</th>\n",
       "      <td>1</td>\n",
       "      <td>0</td>\n",
       "      <td>0</td>\n",
       "      <td>1</td>\n",
       "      <td>1</td>\n",
       "      <td>3</td>\n",
       "      <td>1</td>\n",
       "      <td>0</td>\n",
       "      <td>12000.0</td>\n",
       "      <td>1</td>\n",
       "      <td>8.5</td>\n",
       "      <td>8.8</td>\n",
       "      <td>537850</td>\n",
       "      <td>37.1</td>\n",
       "    </tr>\n",
       "    <tr>\n",
       "      <th>1</th>\n",
       "      <td>1</td>\n",
       "      <td>0</td>\n",
       "      <td>1</td>\n",
       "      <td>1</td>\n",
       "      <td>1</td>\n",
       "      <td>10</td>\n",
       "      <td>1</td>\n",
       "      <td>2</td>\n",
       "      <td>55000.0</td>\n",
       "      <td>2</td>\n",
       "      <td>5.0</td>\n",
       "      <td>7.5</td>\n",
       "      <td>462988</td>\n",
       "      <td>64.8</td>\n",
       "    </tr>\n",
       "  </tbody>\n",
       "</table>\n",
       "</div>"
      ],
      "text/plain": [
       "   Make  Model  Variant  Type  Fuel Type  Age  Transmission  Color      Kms  \\\n",
       "0     1      0        0     1          1    3             1      0  12000.0   \n",
       "1     1      0        1     1          1   10             1      2  55000.0   \n",
       "\n",
       "   No of Owner  Heath score  price score  on road price   Dep  \n",
       "0            1          8.5          8.8         537850  37.1  \n",
       "1            2          5.0          7.5         462988  64.8  "
      ]
     },
     "execution_count": 115,
     "metadata": {},
     "output_type": "execute_result"
    }
   ],
   "source": [
    "df.head(2)"
   ]
  },
  {
   "cell_type": "code",
   "execution_count": 5,
   "metadata": {},
   "outputs": [],
   "source": [
    "df1.drop(['Unnamed: 0'], axis=1, inplace=True)"
   ]
  },
  {
   "cell_type": "code",
   "execution_count": 116,
   "metadata": {},
   "outputs": [
    {
     "data": {
      "text/plain": [
       "(1596, 14)"
      ]
     },
     "execution_count": 116,
     "metadata": {},
     "output_type": "execute_result"
    }
   ],
   "source": [
    "df.shape"
   ]
  },
  {
   "cell_type": "code",
   "execution_count": 117,
   "metadata": {},
   "outputs": [],
   "source": [
    "x = df.drop('Dep', axis=1)\n",
    "y = df['Dep']"
   ]
  },
  {
   "cell_type": "code",
   "execution_count": 118,
   "metadata": {},
   "outputs": [
    {
     "data": {
      "text/plain": [
       "13"
      ]
     },
     "execution_count": 118,
     "metadata": {},
     "output_type": "execute_result"
    }
   ],
   "source": [
    "len(x.columns)"
   ]
  },
  {
   "cell_type": "code",
   "execution_count": 119,
   "metadata": {},
   "outputs": [],
   "source": [
    "X_train, X_test, Y_train, y_test = train_test_split(x, y, test_size=0.10, random_state=32)"
   ]
  },
  {
   "cell_type": "code",
   "execution_count": 120,
   "metadata": {},
   "outputs": [],
   "source": [
    "from sklearn.ensemble import RandomForestRegressor\n",
    "model1 = RandomForestRegressor(n_estimators=500, max_features=\"sqrt\")\n",
    "model1 = model1.fit(X_train, Y_train )\n",
    "y_pred1 = model1.predict(X_test)"
   ]
  },
  {
   "cell_type": "code",
   "execution_count": 121,
   "metadata": {},
   "outputs": [
    {
     "name": "stdout",
     "output_type": "stream",
     "text": [
      "()\n",
      "Scores:\n",
      "[0.77792404 0.75758783 0.78907067 0.80380774 0.78904921]\n",
      "Mean absolute error:\n",
      "3.82937841667\n",
      "Mean percent error: \n",
      "0.06862377880321995\n",
      "()\n"
     ]
    }
   ],
   "source": [
    "scores = cross_val_score(model1,X_test,y_test, cv = 5)\n",
    "print()\n",
    "\n",
    "print(\"Scores:\")\n",
    "print(scores)\n",
    "print(\"Mean absolute error:\")\n",
    "mean_error = sum(abs(y_test-y_pred1))/len(y_test)\n",
    "print(mean_error);\n",
    "print(\"Mean percent error: \")\n",
    "print(mean_error/np.mean(y_test))\n",
    "print()"
   ]
  },
  {
   "cell_type": "code",
   "execution_count": 122,
   "metadata": {},
   "outputs": [],
   "source": [
    "from sklearn.ensemble import GradientBoostingRegressor\n",
    "model2= GradientBoostingRegressor()\n",
    "model2=model2.fit(X_train, Y_train)\n",
    "y_pred2 = model2.predict(X_test)"
   ]
  },
  {
   "cell_type": "code",
   "execution_count": 123,
   "metadata": {},
   "outputs": [
    {
     "name": "stdout",
     "output_type": "stream",
     "text": [
      "()\n",
      "Scores:\n",
      "[0.79411212 0.81406248 0.88129459 0.87144857 0.84503463]\n",
      "Mean absolute error:\n",
      "3.10025327151\n",
      "Mean percent error: \n",
      "0.05555760533147586\n",
      "()\n"
     ]
    }
   ],
   "source": [
    "scores = cross_val_score(model2,X_test,y_test, cv = 5)\n",
    "print()\n",
    "\n",
    "print(\"Scores:\")\n",
    "print(scores)\n",
    "print(\"Mean absolute error:\")\n",
    "mean_error = sum(abs(y_test-y_pred2))/len(y_test)\n",
    "print(mean_error);\n",
    "print(\"Mean percent error: \")\n",
    "print(mean_error/np.mean(y_test))\n",
    "print()"
   ]
  },
  {
   "cell_type": "code",
   "execution_count": null,
   "metadata": {},
   "outputs": [],
   "source": []
  },
  {
   "cell_type": "code",
   "execution_count": null,
   "metadata": {},
   "outputs": [],
   "source": []
  },
  {
   "cell_type": "code",
   "execution_count": null,
   "metadata": {},
   "outputs": [],
   "source": []
  },
  {
   "cell_type": "code",
   "execution_count": null,
   "metadata": {},
   "outputs": [],
   "source": []
  },
  {
   "cell_type": "code",
   "execution_count": null,
   "metadata": {},
   "outputs": [],
   "source": []
  },
  {
   "cell_type": "code",
   "execution_count": 83,
   "metadata": {},
   "outputs": [],
   "source": [
    "df['model'] = df['model'].map( {'Alto 800': 1,'Eeco' : 0,'Alto K10':2,'Ciaz':3, 'Wagon R 1.0':4,'Baleno':5,'Swift':6,'Celerio':7,'Ertiga':8,'Ignis':9,'Swift Dzire':10,'S-Cross':11,'Dzire':12,'Vitara Brezza':13,'Alto':14,'Stingray':15, 'Estilo':16, 'City':17,'Ritz':18, 'A-Star':19, 'Gypsy':20, 'Wagon R':21, 'Omni':22, 'i20':23,'Corolla Altis':24, 'Verna':25, 'Getz':26, 'SX4':27, 'i10':28, 'Grand i10':29,'Elantra':30, 'Xcent':31, 'Swift DZire':32, 'Eon':33, 'Esteem':34, 'Etios':35,'City ZX':36, 'Jazz':37, 'Etios Liva':38, 'Accord':39, 'Elite i20':40, 'Creta':41,'Fortuner':42, 'i20 Active':43, 'Accent':44, 'Santro Xing':45, 'Santa Fe':46,'Innova Crysta':47, 'Amaze':48, 'Brio':49, 'BR-V':50, 'CR-V':51, 'Mobilio':52,'Civic':53, 'Etios Cross':54, 'Corolla':55, 'Innova':56, 'Kizashi':57,'Land Cruiser Prado':58, 'Prius':59, 'Sonata':60, 'Fluidic Verna 4S':61,'Verna Transform':62, 'WR-V':63 } ).astype(int)"
   ]
  },
  {
   "cell_type": "code",
   "execution_count": 85,
   "metadata": {},
   "outputs": [],
   "source": [
    "df['fuel_type'] = df['fuel_type'].map( {'Petrol': 1,'CNG' : 0,'Diesel':2,'LPG':3  } ).astype(int)"
   ]
  },
  {
   "cell_type": "code",
   "execution_count": 86,
   "metadata": {},
   "outputs": [],
   "source": [
    "df['make'] = df['make'].map( {'Maruti Suzuki': 1,'Toyota' : 0,'Hyundai':2,'Honda':3  } ).astype(int)"
   ]
  },
  {
   "cell_type": "code",
   "execution_count": 87,
   "metadata": {},
   "outputs": [],
   "source": [
    "df['transmission'] = df['transmission'].map( {'Manual': 1,'Automatic' : 0} ).astype(int)"
   ]
  },
  {
   "cell_type": "code",
   "execution_count": 88,
   "metadata": {},
   "outputs": [
    {
     "data": {
      "text/html": [
       "<div>\n",
       "<style scoped>\n",
       "    .dataframe tbody tr th:only-of-type {\n",
       "        vertical-align: middle;\n",
       "    }\n",
       "\n",
       "    .dataframe tbody tr th {\n",
       "        vertical-align: top;\n",
       "    }\n",
       "\n",
       "    .dataframe thead th {\n",
       "        text-align: right;\n",
       "    }\n",
       "</style>\n",
       "<table border=\"1\" class=\"dataframe\">\n",
       "  <thead>\n",
       "    <tr style=\"text-align: right;\">\n",
       "      <th></th>\n",
       "      <th>Depriciation</th>\n",
       "      <th>age</th>\n",
       "      <th>color</th>\n",
       "      <th>fuel_type</th>\n",
       "      <th>kms_run</th>\n",
       "      <th>make</th>\n",
       "      <th>model</th>\n",
       "      <th>owners</th>\n",
       "      <th>transmission</th>\n",
       "    </tr>\n",
       "  </thead>\n",
       "  <tbody>\n",
       "    <tr>\n",
       "      <th>0</th>\n",
       "      <td>29.300927</td>\n",
       "      <td>1</td>\n",
       "      <td>1</td>\n",
       "      <td>1</td>\n",
       "      <td>836</td>\n",
       "      <td>1</td>\n",
       "      <td>1</td>\n",
       "      <td>1</td>\n",
       "      <td>1</td>\n",
       "    </tr>\n",
       "    <tr>\n",
       "      <th>1</th>\n",
       "      <td>22.897497</td>\n",
       "      <td>2</td>\n",
       "      <td>0</td>\n",
       "      <td>1</td>\n",
       "      <td>1900</td>\n",
       "      <td>1</td>\n",
       "      <td>0</td>\n",
       "      <td>1</td>\n",
       "      <td>1</td>\n",
       "    </tr>\n",
       "  </tbody>\n",
       "</table>\n",
       "</div>"
      ],
      "text/plain": [
       "   Depriciation  age  color  fuel_type  kms_run  make  model  owners  \\\n",
       "0     29.300927    1      1          1      836     1      1       1   \n",
       "1     22.897497    2      0          1     1900     1      0       1   \n",
       "\n",
       "   transmission  \n",
       "0             1  \n",
       "1             1  "
      ]
     },
     "execution_count": 88,
     "metadata": {},
     "output_type": "execute_result"
    }
   ],
   "source": [
    "df.head(2)"
   ]
  },
  {
   "cell_type": "code",
   "execution_count": 7,
   "metadata": {},
   "outputs": [
    {
     "data": {
      "text/plain": [
       "(5092, 10)"
      ]
     },
     "execution_count": 7,
     "metadata": {},
     "output_type": "execute_result"
    }
   ],
   "source": [
    "df.shape"
   ]
  },
  {
   "cell_type": "code",
   "execution_count": 8,
   "metadata": {},
   "outputs": [
    {
     "data": {
      "text/plain": [
       "Age               int64\n",
       "Depreciation    float64\n",
       "MMV               int64\n",
       "color             int64\n",
       "fuel_type         int64\n",
       "kms_run           int64\n",
       "make              int64\n",
       "model             int64\n",
       "owners            int64\n",
       "transmission      int64\n",
       "dtype: object"
      ]
     },
     "execution_count": 8,
     "metadata": {},
     "output_type": "execute_result"
    }
   ],
   "source": [
    "df.dtypes"
   ]
  },
  {
   "cell_type": "code",
   "execution_count": 14,
   "metadata": {},
   "outputs": [],
   "source": [
    "x = df.drop('Depreciation', axis=1)\n",
    "y = df['Depreciation']"
   ]
  },
  {
   "cell_type": "code",
   "execution_count": 15,
   "metadata": {},
   "outputs": [],
   "source": [
    "X_train, X_test, Y_train, y_test = train_test_split(x, y, test_size=0.10, random_state=32)"
   ]
  },
  {
   "cell_type": "code",
   "execution_count": 16,
   "metadata": {},
   "outputs": [],
   "source": [
    "from sklearn.ensemble import RandomForestRegressor\n",
    "model1 = RandomForestRegressor(n_estimators=500, max_features=\"sqrt\")\n",
    "model1 = model1.fit(X_train, Y_train )\n",
    "y_pred1 = model1.predict(X_test)"
   ]
  },
  {
   "cell_type": "code",
   "execution_count": 17,
   "metadata": {},
   "outputs": [
    {
     "name": "stdout",
     "output_type": "stream",
     "text": [
      "()\n",
      "Scores:\n",
      "[0.87696029 0.85444183 0.86177777 0.87523256 0.85763935]\n",
      "Mean absolute error:\n",
      "4.18271570418\n",
      "Mean percent error: \n",
      "0.08461426018825097\n",
      "()\n"
     ]
    }
   ],
   "source": [
    "scores = cross_val_score(model1,X_test,y_test, cv = 5)\n",
    "print()\n",
    "\n",
    "print(\"Scores:\")\n",
    "print(scores)\n",
    "print(\"Mean absolute error:\")\n",
    "mean_error = sum(abs(y_test-y_pred1))/len(y_test)\n",
    "print(mean_error);\n",
    "print(\"Mean percent error: \")\n",
    "print(mean_error/np.mean(y_test))\n",
    "print()\n"
   ]
  },
  {
   "cell_type": "code",
   "execution_count": 130,
   "metadata": {},
   "outputs": [],
   "source": [
    "er=y_test-y_pred1"
   ]
  },
  {
   "cell_type": "code",
   "execution_count": 137,
   "metadata": {},
   "outputs": [
    {
     "data": {
      "text/plain": [
       "163      2.087003\n",
       "1628     2.680849\n",
       "937      4.668617\n",
       "2249     4.440791\n",
       "2100     0.511570\n",
       "1877     4.319916\n",
       "1593     3.164188\n",
       "2362     2.823924\n",
       "2141     0.965543\n",
       "1398    11.915772\n",
       "2817     4.217357\n",
       "1378     6.631988\n",
       "18      10.151859\n",
       "290      1.389219\n",
       "2523     3.162541\n",
       "2345     1.805370\n",
       "1507     6.263476\n",
       "98       9.712680\n",
       "238      3.054156\n",
       "965      3.739579\n",
       "2677     2.554175\n",
       "317      4.078702\n",
       "450      5.214388\n",
       "2340     1.106221\n",
       "1736     0.528760\n",
       "1145     0.466338\n",
       "1647     5.486571\n",
       "2357     2.482734\n",
       "2040     2.493021\n",
       "1494     2.747175\n",
       "          ...    \n",
       "1832     0.058978\n",
       "1347     5.183503\n",
       "1843     3.113629\n",
       "1696     0.009326\n",
       "2608     1.500631\n",
       "295     16.484524\n",
       "726      4.042978\n",
       "1170     0.357611\n",
       "422      3.647112\n",
       "124      7.764996\n",
       "278      3.201963\n",
       "763      0.252416\n",
       "765      5.789492\n",
       "2480     0.010726\n",
       "348      1.454426\n",
       "2210     1.001448\n",
       "1814     6.416026\n",
       "2189     0.023810\n",
       "1883     2.967858\n",
       "1849     1.165389\n",
       "2846     5.973822\n",
       "2230     5.072406\n",
       "1452    18.473055\n",
       "1853     2.497778\n",
       "507      2.696891\n",
       "1598     8.132006\n",
       "2029     2.127063\n",
       "1075     0.050169\n",
       "1680     2.862308\n",
       "159      1.106496\n",
       "Name: Depriciation, Length: 294, dtype: float64"
      ]
     },
     "execution_count": 137,
     "metadata": {},
     "output_type": "execute_result"
    }
   ],
   "source": [
    "abs(er)"
   ]
  },
  {
   "cell_type": "code",
   "execution_count": 18,
   "metadata": {},
   "outputs": [],
   "source": [
    "from sklearn.ensemble import GradientBoostingRegressor\n",
    "model2= GradientBoostingRegressor()\n",
    "model2=model2.fit(X_train, Y_train)\n",
    "y_pred2 = model2.predict(X_test)"
   ]
  },
  {
   "cell_type": "code",
   "execution_count": 19,
   "metadata": {},
   "outputs": [
    {
     "name": "stdout",
     "output_type": "stream",
     "text": [
      "()\n",
      "Scores:\n",
      "[0.88390409 0.8194759  0.87460129 0.88071481 0.8929611 ]\n",
      "Mean absolute error:\n",
      "4.45563848636\n",
      "Mean percent error: \n",
      "0.09013535244887697\n",
      "()\n"
     ]
    }
   ],
   "source": [
    "scores = cross_val_score(model2,X_test,y_test, cv = 5)\n",
    "print()\n",
    "\n",
    "print(\"Scores:\")\n",
    "print(scores)\n",
    "print(\"Mean absolute error:\")\n",
    "mean_error = sum(abs(y_test-y_pred2))/len(y_test)\n",
    "print(mean_error);\n",
    "print(\"Mean percent error: \")\n",
    "print(mean_error/np.mean(y_test))\n",
    "print()"
   ]
  },
  {
   "cell_type": "code",
   "execution_count": 70,
   "metadata": {},
   "outputs": [],
   "source": [
    "from sklearn.tree import DecisionTreeRegressor\n",
    "model3 = DecisionTreeRegressor(random_state=0)\n",
    "model3=model3.fit(X_train, Y_train)\n",
    "y_pred3 = model3.predict(X_test)"
   ]
  },
  {
   "cell_type": "code",
   "execution_count": 71,
   "metadata": {},
   "outputs": [
    {
     "name": "stdout",
     "output_type": "stream",
     "text": [
      "()\n",
      "Scores:\n",
      "[0.58063218 0.64073011 0.42330111 0.63895415 0.67572013]\n",
      "Mean absolute error:\n",
      "6.06394736842\n",
      "Mean percent error: \n",
      "0.11126508932882667\n",
      "()\n"
     ]
    }
   ],
   "source": [
    "scores = cross_val_score(model3,X_test,y_test, cv = 5)\n",
    "print()\n",
    "\n",
    "print(\"Scores:\")\n",
    "print(scores)\n",
    "print(\"Mean absolute error:\")\n",
    "mean_error = sum(abs(y_test-y_pred3))/len(y_test)\n",
    "print(mean_error);\n",
    "print(\"Mean percent error: \")\n",
    "print(mean_error/np.mean(y_test))\n",
    "print()"
   ]
  },
  {
   "cell_type": "code",
   "execution_count": 72,
   "metadata": {},
   "outputs": [],
   "source": [
    "from sklearn import neural_network\n",
    "model4=neural_network.MLPRegressor()\n",
    "model4=model4.fit(X_train, Y_train)\n",
    "y_pred4 = model4.predict(X_test)"
   ]
  },
  {
   "cell_type": "code",
   "execution_count": 73,
   "metadata": {},
   "outputs": [
    {
     "name": "stdout",
     "output_type": "stream",
     "text": [
      "()\n",
      "Scores:\n",
      "[-2374735.73259283 -3236433.92364608 -4480647.11910092   -61115.35374972\n",
      " -1664150.21391967]\n",
      "Mean absolute error:\n",
      "82.8998170987\n",
      "Mean percent error: \n",
      "1.5210975614433475\n",
      "()\n"
     ]
    }
   ],
   "source": [
    "scores = cross_val_score(model4,X_test,y_test, cv = 5)\n",
    "print()\n",
    "\n",
    "print(\"Scores:\")\n",
    "print(scores)\n",
    "print(\"Mean absolute error:\")\n",
    "mean_error = sum(abs(y_test-y_pred4))/len(y_test)\n",
    "print(mean_error);\n",
    "print(\"Mean percent error: \")\n",
    "print(mean_error/np.mean(y_test))\n",
    "print()"
   ]
  },
  {
   "cell_type": "code",
   "execution_count": 125,
   "metadata": {},
   "outputs": [],
   "source": [
    "from sklearn import neural_network\n",
    "model5=neural_network.MLPRegressor(solver='lbfgs', alpha=1e-5,hidden_layer_sizes=(5,2), random_state=1)\n",
    "model5=model5.fit(X_train, Y_train)\n",
    "y_pred5 = model5.predict(X_test)"
   ]
  },
  {
   "cell_type": "code",
   "execution_count": 108,
   "metadata": {},
   "outputs": [
    {
     "name": "stdout",
     "output_type": "stream",
     "text": [
      "()\n",
      "Scores:\n",
      "[-0.00232004 -0.01495436 -0.05671014 -0.0186222  -0.00200983]\n",
      "Mean absolute error:\n",
      "13.2308128152\n",
      "Mean percent error: \n",
      "0.2503495316772608\n",
      "()\n"
     ]
    }
   ],
   "source": [
    "scores = cross_val_score(model5,X_test,y_test, cv = 5)\n",
    "print()\n",
    "\n",
    "print(\"Scores:\")\n",
    "print(scores)\n",
    "print(\"Mean absolute error:\")\n",
    "mean_error = sum(abs(y_test-y_pred5))/len(y_test)\n",
    "print(mean_error);\n",
    "print(\"Mean percent error: \")\n",
    "print(mean_error/np.mean(y_test))\n",
    "print()"
   ]
  }
 ],
 "metadata": {
  "kernelspec": {
   "display_name": "Python 2",
   "language": "python",
   "name": "python2"
  },
  "language_info": {
   "codemirror_mode": {
    "name": "ipython",
    "version": 2
   },
   "file_extension": ".py",
   "mimetype": "text/x-python",
   "name": "python",
   "nbconvert_exporter": "python",
   "pygments_lexer": "ipython2",
   "version": "2.7.12"
  }
 },
 "nbformat": 4,
 "nbformat_minor": 2
}
